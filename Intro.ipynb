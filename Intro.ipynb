{
  "nbformat": 4,
  "nbformat_minor": 0,
  "metadata": {
    "colab": {
      "name": "Intro.ipynb",
      "provenance": [],
      "authorship_tag": "ABX9TyOD18L+8MWCUKKdTzkx927J",
      "include_colab_link": true
    },
    "kernelspec": {
      "name": "python3",
      "display_name": "Python 3"
    }
  },
  "cells": [
    {
      "cell_type": "markdown",
      "metadata": {
        "id": "view-in-github",
        "colab_type": "text"
      },
      "source": [
        "<a href=\"https://colab.research.google.com/github/Suphattha/data_viz/blob/main/Intro.ipynb\" target=\"_parent\"><img src=\"https://colab.research.google.com/assets/colab-badge.svg\" alt=\"Open In Colab\"/></a>"
      ]
    },
    {
      "cell_type": "markdown",
      "metadata": {
        "id": "ZUwclWGgSlNC"
      },
      "source": [
        "สุภัทธา ทิ้งไทยสงค์ 613021026-2"
      ]
    },
    {
      "cell_type": "markdown",
      "metadata": {
        "id": "SbmFGT2US2gP"
      },
      "source": [
        "ภาษา Markdown\r\n",
        "\r\n",
        "#Markdown\r\n",
        "\r\n",
        "##Markdown\r\n",
        "\r\n",
        "~strike~"
      ]
    },
    {
      "cell_type": "code",
      "metadata": {
        "colab": {
          "base_uri": "https://localhost:8080/"
        },
        "id": "uOs-QYvhR_RZ",
        "outputId": "a4380d8d-d22a-47cb-b805-3e37818ece18"
      },
      "source": [
        "print('สุภัทธา')"
      ],
      "execution_count": 1,
      "outputs": [
        {
          "output_type": "stream",
          "text": [
            "สุภัทธา\n"
          ],
          "name": "stdout"
        }
      ]
    }
  ]
}