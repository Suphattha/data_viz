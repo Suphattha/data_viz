{
  "nbformat": 4,
  "nbformat_minor": 0,
  "metadata": {
    "colab": {
      "name": "Python101.ipynb",
      "provenance": [],
      "authorship_tag": "ABX9TyNZQADM9ZUnWeqoYrwsBwX1",
      "include_colab_link": true
    },
    "kernelspec": {
      "name": "python3",
      "display_name": "Python 3"
    }
  },
  "cells": [
    {
      "cell_type": "markdown",
      "metadata": {
        "id": "view-in-github",
        "colab_type": "text"
      },
      "source": [
        "<a href=\"https://colab.research.google.com/github/Suphattha/data_viz/blob/main/Python101.ipynb\" target=\"_parent\"><img src=\"https://colab.research.google.com/assets/colab-badge.svg\" alt=\"Open In Colab\"/></a>"
      ]
    },
    {
      "cell_type": "markdown",
      "metadata": {
        "id": "W0Mrbj1aLMcx"
      },
      "source": [
        "##Variables"
      ]
    },
    {
      "cell_type": "code",
      "metadata": {
        "colab": {
          "base_uri": "https://localhost:8080/"
        },
        "id": "MMD6ZOHQItMW",
        "outputId": "2bfdb852-075c-48fc-d245-aefde2f2454c"
      },
      "source": [
        "3.14159265359"
      ],
      "execution_count": 1,
      "outputs": [
        {
          "output_type": "execute_result",
          "data": {
            "text/plain": [
              "3.14159265359"
            ]
          },
          "metadata": {
            "tags": []
          },
          "execution_count": 1
        }
      ]
    },
    {
      "cell_type": "markdown",
      "metadata": {
        "id": "l27vnFbNLd3j"
      },
      "source": [
        "หลักการตั้งชื่อตัวแปรเบื้องต้น\r\n",
        "\r\n",
        "1.ตั้งให้สื่อความหมาย\r\n",
        "2.ใช้ภาษาอังกฤษ\r\n",
        "3.ใช้ตัวเลขได้ แต่ห้ามใช้ตัวเลขขึ้นต้น\r\n",
        "4.ห้ามเว้นวรรค"
      ]
    },
    {
      "cell_type": "code",
      "metadata": {
        "id": "78Co_EkbLQa4"
      },
      "source": [
        "pi = 3.14159265359"
      ],
      "execution_count": 3,
      "outputs": []
    },
    {
      "cell_type": "code",
      "metadata": {
        "colab": {
          "base_uri": "https://localhost:8080/"
        },
        "id": "-o5cPHWkLQYo",
        "outputId": "777784f0-b168-4dce-d453-b9f69a5bc013"
      },
      "source": [
        "pi"
      ],
      "execution_count": 4,
      "outputs": [
        {
          "output_type": "execute_result",
          "data": {
            "text/plain": [
              "3.14159265359"
            ]
          },
          "metadata": {
            "tags": []
          },
          "execution_count": 4
        }
      ]
    },
    {
      "cell_type": "markdown",
      "metadata": {
        "id": "Muv-h5BfMbN9"
      },
      "source": [
        "int : จำนวนเต็ม"
      ]
    },
    {
      "cell_type": "code",
      "metadata": {
        "id": "GphoxY6yLQXA"
      },
      "source": [
        "a = 10"
      ],
      "execution_count": 5,
      "outputs": []
    },
    {
      "cell_type": "code",
      "metadata": {
        "colab": {
          "base_uri": "https://localhost:8080/"
        },
        "id": "Xxhjw4ciLQU6",
        "outputId": "e7b421fb-0f90-4dbf-fa23-37552952bc03"
      },
      "source": [
        "print(a)"
      ],
      "execution_count": 6,
      "outputs": [
        {
          "output_type": "stream",
          "text": [
            "10\n"
          ],
          "name": "stdout"
        }
      ]
    },
    {
      "cell_type": "markdown",
      "metadata": {
        "id": "4uunzxcnM2fk"
      },
      "source": [
        "float : จำนวนจริง (ทศนิยม)"
      ]
    },
    {
      "cell_type": "code",
      "metadata": {
        "colab": {
          "base_uri": "https://localhost:8080/"
        },
        "id": "jl2vP88sLQS3",
        "outputId": "27aa9670-8d04-4a06-9144-ec74783de8e0"
      },
      "source": [
        "b = 10.\r\n",
        "print(b)"
      ],
      "execution_count": 7,
      "outputs": [
        {
          "output_type": "stream",
          "text": [
            "10.0\n"
          ],
          "name": "stdout"
        }
      ]
    },
    {
      "cell_type": "markdown",
      "metadata": {
        "id": "93ZJE9T9M-sP"
      },
      "source": [
        "ตัวอักษร (char (character)) ข้อความ (text หรือ string)\r\n",
        "\r\n",
        ".. # hashtag, sharp ใช้สำหรับคอมเม้น"
      ]
    },
    {
      "cell_type": "code",
      "metadata": {
        "colab": {
          "base_uri": "https://localhost:8080/"
        },
        "id": "GBZS4de4LQQb",
        "outputId": "877c8e37-9b11-4f04-e001-cdfdf62e1b54"
      },
      "source": [
        "c = 'สุภัทธา'   # เป็นบอกว่าตัวแปรคือตัวอักษรหรือข้อความ ด้วยการใช้ single quote ' หรือ double quote \" ล้อมรอบ \r\n",
        "print(c)"
      ],
      "execution_count": 8,
      "outputs": [
        {
          "output_type": "stream",
          "text": [
            "สุภัทธา\n"
          ],
          "name": "stdout"
        }
      ]
    },
    {
      "cell_type": "markdown",
      "metadata": {
        "id": "dK2D_g3eNafy"
      },
      "source": [
        "ตัวเลขที่เป็น string ไม่สามารถเอามา + - x / กับตัวเลขได้"
      ]
    },
    {
      "cell_type": "code",
      "metadata": {
        "colab": {
          "base_uri": "https://localhost:8080/"
        },
        "id": "_qLuvKmYLQOg",
        "outputId": "010d6a2d-3649-4762-ead9-ad750cb42260"
      },
      "source": [
        "d = '10'\r\n",
        "print(d)"
      ],
      "execution_count": 9,
      "outputs": [
        {
          "output_type": "stream",
          "text": [
            "10\n"
          ],
          "name": "stdout"
        }
      ]
    },
    {
      "cell_type": "code",
      "metadata": {
        "colab": {
          "base_uri": "https://localhost:8080/",
          "height": 163
        },
        "id": "uu4vtk4HLQMc",
        "outputId": "2c122acf-32bc-470f-a08f-771ef02e2410"
      },
      "source": [
        "d + 1 "
      ],
      "execution_count": 10,
      "outputs": [
        {
          "output_type": "error",
          "ename": "TypeError",
          "evalue": "ignored",
          "traceback": [
            "\u001b[0;31m---------------------------------------------------------------------------\u001b[0m",
            "\u001b[0;31mTypeError\u001b[0m                                 Traceback (most recent call last)",
            "\u001b[0;32m<ipython-input-10-f2c65cc21b93>\u001b[0m in \u001b[0;36m<module>\u001b[0;34m()\u001b[0m\n\u001b[0;32m----> 1\u001b[0;31m \u001b[0md\u001b[0m \u001b[0;34m+\u001b[0m \u001b[0;36m1\u001b[0m\u001b[0;34m\u001b[0m\u001b[0;34m\u001b[0m\u001b[0m\n\u001b[0m",
            "\u001b[0;31mTypeError\u001b[0m: must be str, not int"
          ]
        }
      ]
    },
    {
      "cell_type": "markdown",
      "metadata": {
        "id": "nMAQxvqBNuuc"
      },
      "source": [
        "variable casting (การเปลี่ยนชนิดของข้อมูล)"
      ]
    },
    {
      "cell_type": "code",
      "metadata": {
        "colab": {
          "base_uri": "https://localhost:8080/"
        },
        "id": "fYMWJhf_LQKZ",
        "outputId": "63c9a809-100b-41e3-fa07-888a574bfc44"
      },
      "source": [
        "int(d) + 1"
      ],
      "execution_count": 11,
      "outputs": [
        {
          "output_type": "execute_result",
          "data": {
            "text/plain": [
              "11"
            ]
          },
          "metadata": {
            "tags": []
          },
          "execution_count": 11
        }
      ]
    },
    {
      "cell_type": "code",
      "metadata": {
        "colab": {
          "base_uri": "https://localhost:8080/"
        },
        "id": "U8YNUX0zLQIc",
        "outputId": "4aab5781-8fc6-4d2e-d27e-f154ad0a8e24"
      },
      "source": [
        "print(a)\r\n",
        "print(float(a))\r\n",
        "print(str(a))"
      ],
      "execution_count": 12,
      "outputs": [
        {
          "output_type": "stream",
          "text": [
            "10\n",
            "10.0\n",
            "10\n"
          ],
          "name": "stdout"
        }
      ]
    },
    {
      "cell_type": "markdown",
      "metadata": {
        "id": "xOIt1TACN9sR"
      },
      "source": [
        "Operation (Operators +,-,*,/,%)"
      ]
    },
    {
      "cell_type": "code",
      "metadata": {
        "colab": {
          "base_uri": "https://localhost:8080/"
        },
        "id": "9--S-nA0LQG_",
        "outputId": "e131562b-1beb-4c6c-9c4e-9d4637688161"
      },
      "source": [
        "a+b"
      ],
      "execution_count": 13,
      "outputs": [
        {
          "output_type": "execute_result",
          "data": {
            "text/plain": [
              "20.0"
            ]
          },
          "metadata": {
            "tags": []
          },
          "execution_count": 13
        }
      ]
    },
    {
      "cell_type": "code",
      "metadata": {
        "colab": {
          "base_uri": "https://localhost:8080/"
        },
        "id": "qBtfYD7xN3eW",
        "outputId": "1f000d03-bfef-4342-fe71-3dc308794ea3"
      },
      "source": [
        "ab = a+b\r\n",
        "print(ab)"
      ],
      "execution_count": 14,
      "outputs": [
        {
          "output_type": "stream",
          "text": [
            "20.0\n"
          ],
          "name": "stdout"
        }
      ]
    },
    {
      "cell_type": "markdown",
      "metadata": {
        "id": "9TwN9ZsJOKI3"
      },
      "source": [
        "% คือหมาย modulo หรือเศษเหลือ"
      ]
    },
    {
      "cell_type": "code",
      "metadata": {
        "colab": {
          "base_uri": "https://localhost:8080/"
        },
        "id": "S4sxojDCN3bH",
        "outputId": "01ef048c-f03b-464e-9897-fb83317e3a52"
      },
      "source": [
        "5%3"
      ],
      "execution_count": 15,
      "outputs": [
        {
          "output_type": "execute_result",
          "data": {
            "text/plain": [
              "2"
            ]
          },
          "metadata": {
            "tags": []
          },
          "execution_count": 15
        }
      ]
    },
    {
      "cell_type": "code",
      "metadata": {
        "colab": {
          "base_uri": "https://localhost:8080/"
        },
        "id": "6IMiXkMBN3Ys",
        "outputId": "f0c9a7d8-8cda-4b6e-a628-964a551b7a05"
      },
      "source": [
        "7%3"
      ],
      "execution_count": 16,
      "outputs": [
        {
          "output_type": "execute_result",
          "data": {
            "text/plain": [
              "1"
            ]
          },
          "metadata": {
            "tags": []
          },
          "execution_count": 16
        }
      ]
    },
    {
      "cell_type": "markdown",
      "metadata": {
        "id": "2w-z96UBOTMC"
      },
      "source": [
        "คำสั่ง print แบบพิเศษ (การ format string)"
      ]
    },
    {
      "cell_type": "code",
      "metadata": {
        "colab": {
          "base_uri": "https://localhost:8080/"
        },
        "id": "r_7VrS-UN3Wq",
        "outputId": "8ab6cfb1-b4f3-4daa-a003-c0d1b25fc492"
      },
      "source": [
        "print('ตัวแปร') #สิ่งที่อยู่ข้างในวงเล็บคือ ตัวแปร และ string โดยผลรันคือตัวที่อยู่ใน string"
      ],
      "execution_count": 17,
      "outputs": [
        {
          "output_type": "stream",
          "text": [
            "ตัวแปร\n"
          ],
          "name": "stdout"
        }
      ]
    },
    {
      "cell_type": "code",
      "metadata": {
        "colab": {
          "base_uri": "https://localhost:8080/"
        },
        "id": "v1NuxrDvN3Uj",
        "outputId": "069cadbd-10e1-4518-cc44-0b5f511563b8"
      },
      "source": [
        "print(f'% คือการหารเอาเศษ เช่น 7%3 = {7%3}') # เป็นการเพิ่ม f หน้า 'string' และใช้ {} ใส่ code"
      ],
      "execution_count": 18,
      "outputs": [
        {
          "output_type": "stream",
          "text": [
            "% คือการหารเอาเศษ เช่น 7%3 = 1\n"
          ],
          "name": "stdout"
        }
      ]
    },
    {
      "cell_type": "code",
      "metadata": {
        "colab": {
          "base_uri": "https://localhost:8080/"
        },
        "id": "sfZeEnqjN3SO",
        "outputId": "cfb21f08-8381-4a97-a0a8-7009e132f530"
      },
      "source": [
        "print(f'% คือการหารเอาเศษ เช่น 7%3 = {7%3} \\\\\r\n",
        "        แต่\\n/ คือการหารปกติ เช่น 7/3 = {7/3}  \\\\\r\n",
        "        และ\\n// คือการหารเอาส่วน เช่น 7//3 = {7//3} \\\\\r\n",
        "        หรือ\\nใช้ int() เพื่อหารเอาส่วน เช่น int(7/3) = {int(7/3)}') # \\n คือการขึ้นบรรทัดใหม่ \\\\ ใช้ในการตัด code แต่ com จะไม่เห็น"
      ],
      "execution_count": 19,
      "outputs": [
        {
          "output_type": "stream",
          "text": [
            "% คือการหารเอาเศษ เช่น 7%3 = 1 \\        แต่\n",
            "/ คือการหารปกติ เช่น 7/3 = 2.3333333333333335  \\        และ\n",
            "// คือการหารเอาส่วน เช่น 7//3 = 2 \\        หรือ\n",
            "ใช้ int() เพื่อหารเอาส่วน เช่น int(7/3) = 2\n"
          ],
          "name": "stdout"
        }
      ]
    },
    {
      "cell_type": "markdown",
      "metadata": {
        "id": "uh7sqZ3aOySZ"
      },
      "source": [
        "# **DATA STRUCTURE (โครงสร้างข้อมูล)**\r\n",
        "\r\n",
        "##List คือ การเอาตัวแปรหลายๆตัวมาเรียงกัน\r\n",
        "\r\n",
        "###list สามารถสร้างได้ 2แบบ ดังนี้"
      ]
    },
    {
      "cell_type": "markdown",
      "metadata": {
        "id": "yiWNwq43O4gc"
      },
      "source": [
        "แบบที่ 1 > square brackets"
      ]
    },
    {
      "cell_type": "code",
      "metadata": {
        "colab": {
          "base_uri": "https://localhost:8080/"
        },
        "id": "ngKG5xZiN3QY",
        "outputId": "e946c1aa-72d2-47c1-9ae6-089bc698db32"
      },
      "source": [
        "list_a = []\r\n",
        "print(list_a)"
      ],
      "execution_count": 20,
      "outputs": [
        {
          "output_type": "stream",
          "text": [
            "[]\n"
          ],
          "name": "stdout"
        }
      ]
    },
    {
      "cell_type": "code",
      "metadata": {
        "colab": {
          "base_uri": "https://localhost:8080/"
        },
        "id": "X1TwJKkiN3OT",
        "outputId": "968dce0c-1627-4478-9f99-d2ce68057513"
      },
      "source": [
        "list_b = [1,5,'v']\r\n",
        "print(list_b)"
      ],
      "execution_count": 21,
      "outputs": [
        {
          "output_type": "stream",
          "text": [
            "[1, 5, 'v']\n"
          ],
          "name": "stdout"
        }
      ]
    },
    {
      "cell_type": "markdown",
      "metadata": {
        "id": "tnxhMvRZPCoY"
      },
      "source": [
        "ลำดับที่อยู่ใน list มีความสำคัญ (ลำดับใน list เริ่มจาก 0,1,2,...)"
      ]
    },
    {
      "cell_type": "code",
      "metadata": {
        "colab": {
          "base_uri": "https://localhost:8080/"
        },
        "id": "uE8wVgMyN3Mi",
        "outputId": "773a8559-46d4-43be-c3fd-50d85cd48826"
      },
      "source": [
        "list_b[1]"
      ],
      "execution_count": 22,
      "outputs": [
        {
          "output_type": "execute_result",
          "data": {
            "text/plain": [
              "5"
            ]
          },
          "metadata": {
            "tags": []
          },
          "execution_count": 22
        }
      ]
    },
    {
      "cell_type": "markdown",
      "metadata": {
        "id": "hiEoknuvPGkr"
      },
      "source": [
        "แบบที่ 2"
      ]
    },
    {
      "cell_type": "code",
      "metadata": {
        "colab": {
          "base_uri": "https://localhost:8080/"
        },
        "id": "Mtepzu-qN3KC",
        "outputId": "75bdd3a9-7270-454f-be29-904282d0f442"
      },
      "source": [
        "list_c = list()\r\n",
        "print(list_c)"
      ],
      "execution_count": 23,
      "outputs": [
        {
          "output_type": "stream",
          "text": [
            "[]\n"
          ],
          "name": "stdout"
        }
      ]
    },
    {
      "cell_type": "markdown",
      "metadata": {
        "id": "EO4WEJRwPRAJ"
      },
      "source": [
        "append() เป็นการเพิ่มสมาชิกใน list"
      ]
    },
    {
      "cell_type": "code",
      "metadata": {
        "colab": {
          "base_uri": "https://localhost:8080/"
        },
        "id": "Y8_SVz7-N3H2",
        "outputId": "879ee01f-7932-4b35-df84-c24d74d91626"
      },
      "source": [
        "list_b.append('u')\r\n",
        "print(list_b)"
      ],
      "execution_count": 24,
      "outputs": [
        {
          "output_type": "stream",
          "text": [
            "[1, 5, 'v', 'u']\n"
          ],
          "name": "stdout"
        }
      ]
    },
    {
      "cell_type": "code",
      "metadata": {
        "colab": {
          "base_uri": "https://localhost:8080/",
          "height": 35
        },
        "id": "9khkOx-ZN3Fo",
        "outputId": "9b2cb1c0-f6d7-49dc-d9b5-fcada389f3f2"
      },
      "source": [
        "list_b.pop() ### คือการดึงสมาชิกที่สุดท้ายออกจาก list"
      ],
      "execution_count": 25,
      "outputs": [
        {
          "output_type": "execute_result",
          "data": {
            "application/vnd.google.colaboratory.intrinsic+json": {
              "type": "string"
            },
            "text/plain": [
              "'u'"
            ]
          },
          "metadata": {
            "tags": []
          },
          "execution_count": 25
        }
      ]
    },
    {
      "cell_type": "code",
      "metadata": {
        "colab": {
          "base_uri": "https://localhost:8080/"
        },
        "id": "W9gX25-oN3DW",
        "outputId": "24700edb-ac94-44e2-8db5-6f434f6fb952"
      },
      "source": [
        "list_b"
      ],
      "execution_count": 26,
      "outputs": [
        {
          "output_type": "execute_result",
          "data": {
            "text/plain": [
              "[1, 5, 'v']"
            ]
          },
          "metadata": {
            "tags": []
          },
          "execution_count": 26
        }
      ]
    },
    {
      "cell_type": "code",
      "metadata": {
        "colab": {
          "base_uri": "https://localhost:8080/"
        },
        "id": "16rY1kyKN3BA",
        "outputId": "97b2c282-7d5a-4d04-8b20-5de8716b55c5"
      },
      "source": [
        "list_b.append(list_a)\r\n",
        "print(list_b)"
      ],
      "execution_count": 27,
      "outputs": [
        {
          "output_type": "stream",
          "text": [
            "[1, 5, 'v', []]\n"
          ],
          "name": "stdout"
        }
      ]
    },
    {
      "cell_type": "markdown",
      "metadata": {
        "id": "d0F4A4G3Pks4"
      },
      "source": [
        "String > list of characters"
      ]
    },
    {
      "cell_type": "code",
      "metadata": {
        "colab": {
          "base_uri": "https://localhost:8080/",
          "height": 35
        },
        "id": "fQIAVhYsN2_D",
        "outputId": "eff022a2-bc91-413c-c696-9ab5d74462fd"
      },
      "source": [
        "t = 'python is easy'\r\n",
        "t"
      ],
      "execution_count": 28,
      "outputs": [
        {
          "output_type": "execute_result",
          "data": {
            "application/vnd.google.colaboratory.intrinsic+json": {
              "type": "string"
            },
            "text/plain": [
              "'python is easy'"
            ]
          },
          "metadata": {
            "tags": []
          },
          "execution_count": 28
        }
      ]
    },
    {
      "cell_type": "code",
      "metadata": {
        "colab": {
          "base_uri": "https://localhost:8080/"
        },
        "id": "kztztMyvN29S",
        "outputId": "1608bedb-4623-44af-a9da-4409cb49e3dc"
      },
      "source": [
        "len(list_b) # len คือคำสั่งที่ใช้ตรวจสอบความยาวของ list (จำนวนสมาชิก)"
      ],
      "execution_count": 29,
      "outputs": [
        {
          "output_type": "execute_result",
          "data": {
            "text/plain": [
              "4"
            ]
          },
          "metadata": {
            "tags": []
          },
          "execution_count": 29
        }
      ]
    },
    {
      "cell_type": "code",
      "metadata": {
        "colab": {
          "base_uri": "https://localhost:8080/"
        },
        "id": "_ARj1-UgN27e",
        "outputId": "aee44239-7983-4862-a2e6-9194f05a0c1a"
      },
      "source": [
        "len(t)"
      ],
      "execution_count": 30,
      "outputs": [
        {
          "output_type": "execute_result",
          "data": {
            "text/plain": [
              "14"
            ]
          },
          "metadata": {
            "tags": []
          },
          "execution_count": 30
        }
      ]
    },
    {
      "cell_type": "markdown",
      "metadata": {
        "id": "eAiKB-vPPyz8"
      },
      "source": [
        "#**HW2 คำนวณเวลาเป็นวินาทีของเวลาต่อไปนี้โดยใช้คำสั่ง split() ช่วย (print ออกมาให้สวยงาม)**\r\n",
        "\r\n",
        "12:30:15\r\n",
        "\r\n",
        "13:41:07\r\n",
        "\r\n",
        "12:53:15\r\n",
        "\r\n",
        "00:59:25\r\n",
        "\r\n",
        "11:11:11\r\n",
        "\r\n",
        "16:06:09"
      ]
    },
    {
      "cell_type": "code",
      "metadata": {
        "colab": {
          "base_uri": "https://localhost:8080/"
        },
        "id": "W9WK8ZqCN24p",
        "outputId": "37afc958-1fb1-40d0-acb8-67e1d2afd37b"
      },
      "source": [
        "#13:41:07\r\n",
        "T2 = '13:41:07' \r\n",
        "list2 = T2.split(':') \r\n",
        "h2=list2[0]\r\n",
        "H2=int(h2)*3600\r\n",
        "m2=list2[1]\r\n",
        "M2=int(m2)*60\r\n",
        "s2=list2[2]\r\n",
        "S2=int(s2)\r\n",
        "print(f'13:41:07 คำนวณเวลาให้เป็นวินาทีได้ {H2+M2+S2} วินาที')"
      ],
      "execution_count": 31,
      "outputs": [
        {
          "output_type": "stream",
          "text": [
            "13:41:07 คำนวณเวลาให้เป็นวินาทีได้ 49267 วินาที\n"
          ],
          "name": "stdout"
        }
      ]
    },
    {
      "cell_type": "code",
      "metadata": {
        "colab": {
          "base_uri": "https://localhost:8080/"
        },
        "id": "0C86UB1wN22n",
        "outputId": "1a30c713-11a8-44e4-acd5-5e8c915b9091"
      },
      "source": [
        "#12:53:15\r\n",
        "T3 = '12:53:15' \r\n",
        "list3 = T3.split(':') \r\n",
        "h3=list3[0]\r\n",
        "H3=int(h3)*3600\r\n",
        "m3=list3[1]\r\n",
        "M3=int(m3)*60\r\n",
        "s3=list3[2]\r\n",
        "S3=int(s3)\r\n",
        "print(f'12:53:15 คำนวณเวลาให้เป็นวินาทีได้ {H3+M3+S3} วินาที')\r\n"
      ],
      "execution_count": 32,
      "outputs": [
        {
          "output_type": "stream",
          "text": [
            "12:53:15 คำนวณเวลาให้เป็นวินาทีได้ 46395 วินาที\n"
          ],
          "name": "stdout"
        }
      ]
    },
    {
      "cell_type": "code",
      "metadata": {
        "colab": {
          "base_uri": "https://localhost:8080/"
        },
        "id": "40V5SViPN20i",
        "outputId": "2928a9e6-1763-46f2-cbd2-a51f7236d88f"
      },
      "source": [
        "#00:59:25\r\n",
        "T4 = '00:59:25' \r\n",
        "list4 = T4.split(':') \r\n",
        "h4=list4[0]\r\n",
        "H4=int(h4)*3600\r\n",
        "m4=list4[1]\r\n",
        "M4=int(m4)*60\r\n",
        "s4=list4[2]\r\n",
        "S4=int(s4)\r\n",
        "print(f'00:59:25 คำนวณเวลาให้เป็นวินาทีได้ {H4+M4+S4} วินาที')"
      ],
      "execution_count": 33,
      "outputs": [
        {
          "output_type": "stream",
          "text": [
            "00:59:25 คำนวณเวลาให้เป็นวินาทีได้ 3565 วินาที\n"
          ],
          "name": "stdout"
        }
      ]
    },
    {
      "cell_type": "code",
      "metadata": {
        "colab": {
          "base_uri": "https://localhost:8080/"
        },
        "id": "4u4dJP7EN2yp",
        "outputId": "dd08d84f-c2e9-4364-b291-38fe24787a34"
      },
      "source": [
        "#11:11:11\r\n",
        "T5 = '11:11:11' \r\n",
        "list5 = T5.split(':') \r\n",
        "h5=list5[0]\r\n",
        "H5=int(h5)*3600\r\n",
        "m5=list5[1]\r\n",
        "M5=int(m5)*60\r\n",
        "s5=list5[2]\r\n",
        "S5=int(s5)\r\n",
        "print(f'11:11:11 คำนวณเวลาให้เป็นวินาทีได้ {H5+M5+S5} วินาที')"
      ],
      "execution_count": 34,
      "outputs": [
        {
          "output_type": "stream",
          "text": [
            "11:11:11 คำนวณเวลาให้เป็นวินาทีได้ 40271 วินาที\n"
          ],
          "name": "stdout"
        }
      ]
    },
    {
      "cell_type": "code",
      "metadata": {
        "colab": {
          "base_uri": "https://localhost:8080/"
        },
        "id": "rVH0_Ic_N2v8",
        "outputId": "ebe1a8bc-eec8-4850-e738-816737ccbf35"
      },
      "source": [
        "#16:06:09\r\n",
        "T6 = '16:06:09' \r\n",
        "list6 = T6.split(':') \r\n",
        "h6=list6[0]\r\n",
        "H6=int(h6)*3600\r\n",
        "m6=list6[1]\r\n",
        "M6=int(m6)*60\r\n",
        "s6=list6[2]\r\n",
        "S6=int(s6)\r\n",
        "print(f'16:06:09 คำนวณเวลาให้เป็นวินาทีได้ {H6+M6+S6} วินาที')"
      ],
      "execution_count": 35,
      "outputs": [
        {
          "output_type": "stream",
          "text": [
            "16:06:09 คำนวณเวลาให้เป็นวินาทีได้ 57969 วินาที\n"
          ],
          "name": "stdout"
        }
      ]
    },
    {
      "cell_type": "code",
      "metadata": {
        "id": "_-3MLrnGN2t5"
      },
      "source": [
        "list_time = ['12:30:15','13:41:07','12:53:15','00:59:25','11:11:11','16:06:09']\r\n"
      ],
      "execution_count": 36,
      "outputs": []
    },
    {
      "cell_type": "code",
      "metadata": {
        "id": "7z20j5x3N2qz"
      },
      "source": [
        "def time_sec(t) :\r\n",
        "    time_sp = t.split(':')\r\n",
        "    sec = int(time_sp[0])*3600 + int(time_sp[1])*60 + int(time_sp[2])\r\n",
        "    return sec"
      ],
      "execution_count": 37,
      "outputs": []
    },
    {
      "cell_type": "code",
      "metadata": {
        "colab": {
          "base_uri": "https://localhost:8080/"
        },
        "id": "VLVyj9wgQXwg",
        "outputId": "8f6b0d64-280c-4b53-fcae-4337a71bddee"
      },
      "source": [
        "time_sec(list_time[0])"
      ],
      "execution_count": 38,
      "outputs": [
        {
          "output_type": "execute_result",
          "data": {
            "text/plain": [
              "45015"
            ]
          },
          "metadata": {
            "tags": []
          },
          "execution_count": 38
        }
      ]
    },
    {
      "cell_type": "code",
      "metadata": {
        "colab": {
          "base_uri": "https://localhost:8080/"
        },
        "id": "zcUGAZTeQXta",
        "outputId": "a086043b-8e4d-4959-d3b9-ef75b068fb58"
      },
      "source": [
        "time_sec(list_time[1])"
      ],
      "execution_count": 39,
      "outputs": [
        {
          "output_type": "execute_result",
          "data": {
            "text/plain": [
              "49267"
            ]
          },
          "metadata": {
            "tags": []
          },
          "execution_count": 39
        }
      ]
    },
    {
      "cell_type": "code",
      "metadata": {
        "colab": {
          "base_uri": "https://localhost:8080/"
        },
        "id": "HI8-b23uQXqz",
        "outputId": "fea39385-b94d-4970-d297-8944b41fab97"
      },
      "source": [
        "time_sec(list_time[2])"
      ],
      "execution_count": 40,
      "outputs": [
        {
          "output_type": "execute_result",
          "data": {
            "text/plain": [
              "46395"
            ]
          },
          "metadata": {
            "tags": []
          },
          "execution_count": 40
        }
      ]
    },
    {
      "cell_type": "code",
      "metadata": {
        "colab": {
          "base_uri": "https://localhost:8080/"
        },
        "id": "bj2JDeDzQXod",
        "outputId": "4769c1ff-ee54-49bf-f5e3-39a360e76647"
      },
      "source": [
        "time_sec(list_time[3])"
      ],
      "execution_count": 41,
      "outputs": [
        {
          "output_type": "execute_result",
          "data": {
            "text/plain": [
              "3565"
            ]
          },
          "metadata": {
            "tags": []
          },
          "execution_count": 41
        }
      ]
    },
    {
      "cell_type": "code",
      "metadata": {
        "colab": {
          "base_uri": "https://localhost:8080/"
        },
        "id": "KqrtdRGFQXmB",
        "outputId": "62aaea8f-3fde-4dc8-9fd7-d939518e1ee1"
      },
      "source": [
        "time_sec(list_time[4])"
      ],
      "execution_count": 42,
      "outputs": [
        {
          "output_type": "execute_result",
          "data": {
            "text/plain": [
              "40271"
            ]
          },
          "metadata": {
            "tags": []
          },
          "execution_count": 42
        }
      ]
    },
    {
      "cell_type": "code",
      "metadata": {
        "colab": {
          "base_uri": "https://localhost:8080/"
        },
        "id": "2fdQ3e_eQXRZ",
        "outputId": "a5b28b4b-be5e-47d5-9503-94239accf19d"
      },
      "source": [
        "time_sec(list_time[5])"
      ],
      "execution_count": 43,
      "outputs": [
        {
          "output_type": "execute_result",
          "data": {
            "text/plain": [
              "57969"
            ]
          },
          "metadata": {
            "tags": []
          },
          "execution_count": 43
        }
      ]
    },
    {
      "cell_type": "markdown",
      "metadata": {
        "id": "m1IG8bCQQ8eO"
      },
      "source": [
        "#**HW3 ให้ สร้าง list ของ เวลา ['12:30:15','13:41:07',....] แล้ววนลูปเรียกฟังก์ชั่นคำนวณเวลาเป็น วินาที**"
      ]
    },
    {
      "cell_type": "code",
      "metadata": {
        "colab": {
          "base_uri": "https://localhost:8080/"
        },
        "id": "ktYQUENKQXOF",
        "outputId": "71fd0092-c548-448c-ab47-43c3943526d3"
      },
      "source": [
        "for i in list_time :\r\n",
        "    print(f'เวลา {i} คำนวณได้ {time_sec(i)} วินาที')"
      ],
      "execution_count": 44,
      "outputs": [
        {
          "output_type": "stream",
          "text": [
            "เวลา 12:30:15 คำนวณได้ 45015 วินาที\n",
            "เวลา 13:41:07 คำนวณได้ 49267 วินาที\n",
            "เวลา 12:53:15 คำนวณได้ 46395 วินาที\n",
            "เวลา 00:59:25 คำนวณได้ 3565 วินาที\n",
            "เวลา 11:11:11 คำนวณได้ 40271 วินาที\n",
            "เวลา 16:06:09 คำนวณได้ 57969 วินาที\n"
          ],
          "name": "stdout"
        }
      ]
    },
    {
      "cell_type": "code",
      "metadata": {
        "id": "PrcGr2dHQy3P"
      },
      "source": [
        ""
      ],
      "execution_count": null,
      "outputs": []
    },
    {
      "cell_type": "code",
      "metadata": {
        "id": "tjPwbBthQXL2"
      },
      "source": [
        ""
      ],
      "execution_count": null,
      "outputs": []
    },
    {
      "cell_type": "code",
      "metadata": {
        "id": "DfIljfOmQXJw"
      },
      "source": [
        ""
      ],
      "execution_count": null,
      "outputs": []
    },
    {
      "cell_type": "code",
      "metadata": {
        "id": "xX214W0gQXHZ"
      },
      "source": [
        ""
      ],
      "execution_count": null,
      "outputs": []
    },
    {
      "cell_type": "code",
      "metadata": {
        "id": "aT-p1kdaQXFV"
      },
      "source": [
        ""
      ],
      "execution_count": null,
      "outputs": []
    },
    {
      "cell_type": "code",
      "metadata": {
        "id": "6M_lA52cQXC1"
      },
      "source": [
        ""
      ],
      "execution_count": null,
      "outputs": []
    },
    {
      "cell_type": "code",
      "metadata": {
        "id": "FDgcYD_xQXAV"
      },
      "source": [
        ""
      ],
      "execution_count": null,
      "outputs": []
    },
    {
      "cell_type": "code",
      "metadata": {
        "id": "iEGT1WuVQW-b"
      },
      "source": [
        ""
      ],
      "execution_count": null,
      "outputs": []
    },
    {
      "cell_type": "code",
      "metadata": {
        "id": "bnbNuLwqQW8Q"
      },
      "source": [
        ""
      ],
      "execution_count": null,
      "outputs": []
    },
    {
      "cell_type": "code",
      "metadata": {
        "id": "WJXCP8raQW5B"
      },
      "source": [
        ""
      ],
      "execution_count": null,
      "outputs": []
    },
    {
      "cell_type": "code",
      "metadata": {
        "id": "PbFuan5mQW2e"
      },
      "source": [
        ""
      ],
      "execution_count": null,
      "outputs": []
    },
    {
      "cell_type": "code",
      "metadata": {
        "id": "9j5mw5eHQWz6"
      },
      "source": [
        ""
      ],
      "execution_count": null,
      "outputs": []
    },
    {
      "cell_type": "code",
      "metadata": {
        "id": "DbZuCCMeQWwY"
      },
      "source": [
        ""
      ],
      "execution_count": null,
      "outputs": []
    },
    {
      "cell_type": "code",
      "metadata": {
        "id": "w7Kr7XAoQWuL"
      },
      "source": [
        ""
      ],
      "execution_count": null,
      "outputs": []
    }
  ]
}