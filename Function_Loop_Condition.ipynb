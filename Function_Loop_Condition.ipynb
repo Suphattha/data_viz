{
  "nbformat": 4,
  "nbformat_minor": 0,
  "metadata": {
    "colab": {
      "name": "Function_Loop_Condition.ipynb",
      "provenance": [],
      "include_colab_link": true
    },
    "kernelspec": {
      "name": "python3",
      "display_name": "Python 3"
    }
  },
  "cells": [
    {
      "cell_type": "markdown",
      "metadata": {
        "id": "view-in-github",
        "colab_type": "text"
      },
      "source": [
        "<a href=\"https://colab.research.google.com/github/Suphattha/data_viz/blob/main/Function_Loop_Condition.ipynb\" target=\"_parent\"><img src=\"https://colab.research.google.com/assets/colab-badge.svg\" alt=\"Open In Colab\"/></a>"
      ]
    },
    {
      "cell_type": "code",
      "metadata": {
        "colab": {
          "base_uri": "https://localhost:8080/"
        },
        "id": "vpnnzdAOWBJN",
        "outputId": "d1819e6a-4533-42ac-c22b-ec7b6d1824a9"
      },
      "source": [
        "name = 'สุภัทธา'\r\n",
        "surname = 'ทิ้งไทยสงค์'\r\n",
        "ID = '613021026-2'\r\n",
        "\r\n",
        "b= f'ชื่อ {name} นามสกุล {surname} รหัส {ID}'\r\n",
        "print(b)"
      ],
      "execution_count": 24,
      "outputs": [
        {
          "output_type": "stream",
          "text": [
            "ชื่อ สุภัทธา นามสกุล ทิ้งไทยสงค์ รหัส 613021026-2\n"
          ],
          "name": "stdout"
        }
      ]
    },
    {
      "cell_type": "markdown",
      "metadata": {
        "id": "NvS_PxrEZXO8"
      },
      "source": [
        "#Function"
      ]
    },
    {
      "cell_type": "markdown",
      "metadata": {
        "id": "UenjueHVZfag"
      },
      "source": [
        "ทำหน้าที่รับ input มาประมวลผลออกเป็น output\r\n",
        "\r\n",
        "f(x) = y โดยที่ x คือ input\r\n",
        "\r\n",
        "y คือ output"
      ]
    },
    {
      "cell_type": "markdown",
      "metadata": {
        "id": "piDmOVTxZlgi"
      },
      "source": [
        "# def คือ การกำหนดฟังก์ชัน"
      ]
    },
    {
      "cell_type": "markdown",
      "metadata": {
        "id": "Jup0XItmZwYW"
      },
      "source": [
        "```python\r\n",
        "     def function_name(_Input_) :\r\n",
        "        do_something with _Input_ to get _Output_\r\n",
        "        return\r\n",
        "```\r\n",
        "\r\n",
        "\r\n"
      ]
    },
    {
      "cell_type": "markdown",
      "metadata": {
        "id": "hiozL8XoZ4qH"
      },
      "source": [
        "backtick (`) ==> กด ~ ค้าง, alt - 9>6 (full keyboard with number)\r\n",
        "\r\n",
        "tilde (~)\r\n",
        "\r\n",
        "curly bracket ({ })\r\n",
        "\r\n",
        "square bracket ([ ])"
      ]
    },
    {
      "cell_type": "markdown",
      "metadata": {
        "id": "sSalA-uUZ4eg"
      },
      "source": [
        "function มีส่วนสำคัญ 4 ส่วน\r\n",
        "\r\n",
        "1.   บอก python ว่าเราจะเขียนฟังก์ชั่น ชื่ออะไร  def function_name(): (ขาดไม่ได้)\r\n",
        "2.   กำหนดตัวแปรที่จะเป็น input  _Input_ (ขาดได้)\r\n",
        "3.   ส่วนประมวลผล do_something with _Input_ to get _Output_ (ขาดไม่ได้)\r\n",
        "4.   ส่วน output return _Output_(ขาดได้)\r\n"
      ]
    },
    {
      "cell_type": "markdown",
      "metadata": {
        "id": "8Npp7vHgZ_kF"
      },
      "source": [
        "ตัวอย่างการเขียน normal function"
      ]
    },
    {
      "cell_type": "code",
      "metadata": {
        "id": "d2hTwopBZYjD"
      },
      "source": [
        "def print_name(surname,ID,name) :\r\n",
        "  st = f'ชื่อ {name} นามสกุล {surname} รหัส {ID}'\r\n",
        "  return st"
      ],
      "execution_count": 25,
      "outputs": []
    },
    {
      "cell_type": "code",
      "metadata": {
        "colab": {
          "base_uri": "https://localhost:8080/",
          "height": 35
        },
        "id": "ZeAUq2udZc9r",
        "outputId": "b7ba29eb-5534-4a83-ce89-245759f16032"
      },
      "source": [
        "print_name('ทิ้งไทยสงค์','6130210262','สุภัทธา')"
      ],
      "execution_count": 26,
      "outputs": [
        {
          "output_type": "execute_result",
          "data": {
            "application/vnd.google.colaboratory.intrinsic+json": {
              "type": "string"
            },
            "text/plain": [
              "'ชื่อ สุภัทธา นามสกุล ทิ้งไทยสงค์ รหัส 6130210262'"
            ]
          },
          "metadata": {
            "tags": []
          },
          "execution_count": 26
        }
      ]
    },
    {
      "cell_type": "code",
      "metadata": {
        "colab": {
          "base_uri": "https://localhost:8080/"
        },
        "id": "RcP5vPPWZc57",
        "outputId": "a03685ff-e6a3-414a-cbe8-b0a13e439c8e"
      },
      "source": [
        "print(print_name(name='สุภัทธา',surname='ทิ้งไทยสงค์',ID='6130210262'))"
      ],
      "execution_count": 27,
      "outputs": [
        {
          "output_type": "stream",
          "text": [
            "ชื่อ สุภัทธา นามสกุล ทิ้งไทยสงค์ รหัส 6130210262\n"
          ],
          "name": "stdout"
        }
      ]
    },
    {
      "cell_type": "markdown",
      "metadata": {
        "id": "1GTf-dhHasTF"
      },
      "source": [
        "ใช้ เว้นวรรค (indent) เพื่อบอกขอบเขตของโปรแกรม"
      ]
    },
    {
      "cell_type": "markdown",
      "metadata": {
        "id": "Tk7KF5umasFY"
      },
      "source": [
        "สามารถเพิ่มคำสั่งเข้าไปในฟังก์ชันได้อีก โดยการเปลี่ยนคำสั่ง return เป็น print() เช่น ตัวอย่างดังนี้ ได้ทำการเพิ่ม st2 ="
      ]
    },
    {
      "cell_type": "code",
      "metadata": {
        "id": "btH_k-A4Zc3v"
      },
      "source": [
        "def print_name2(name,surname,ID) :\r\n",
        "     st2 = f'ชื่อ {name} นามสกุล {surname} รหัส {ID}'\r\n",
        "     print(st2)"
      ],
      "execution_count": 28,
      "outputs": []
    },
    {
      "cell_type": "code",
      "metadata": {
        "colab": {
          "base_uri": "https://localhost:8080/"
        },
        "id": "aHBZOG8wZc1_",
        "outputId": "562155ab-6520-4fc9-af3f-6fa295057b2f"
      },
      "source": [
        "print_name2(name='สุภัทธา',surname='ทิ้งไทยสงค์',ID=6130210262)"
      ],
      "execution_count": 29,
      "outputs": [
        {
          "output_type": "stream",
          "text": [
            "ชื่อ สุภัทธา นามสกุล ทิ้งไทยสงค์ รหัส 6130210262\n"
          ],
          "name": "stdout"
        }
      ]
    },
    {
      "cell_type": "markdown",
      "metadata": {
        "id": "NyaElH4qbOPo"
      },
      "source": [
        "ในฟังก์ชันไม่จำเป็นต้องมี Input"
      ]
    },
    {
      "cell_type": "code",
      "metadata": {
        "id": "oa7n6fG0Zc0R"
      },
      "source": [
        "def Pi() :\r\n",
        "     return 3.14159265359"
      ],
      "execution_count": 30,
      "outputs": []
    },
    {
      "cell_type": "markdown",
      "metadata": {
        "id": "0x92kRLmbZ3h"
      },
      "source": [
        "**สามารถกำหนดค่า default ให้กับฟังก์ชันได้**\r\n",
        "\r\n",
        "input ของ function ใน python มีสองแบบ input ที่จำเป็นต้องใส่ กับ input ที่ไม่จำเป็นต้องใส่ (มีค่า default)\r\n",
        "เราต้องเรียง input ที่จำเป็นต้องใส่ขึ้นก่อน"
      ]
    },
    {
      "cell_type": "code",
      "metadata": {
        "id": "rZWvam63ZZ48"
      },
      "source": [
        "def print_2lines_default(name,surname,ID,grade='A') :\r\n",
        "  st = f'ชื่อ {name} นามสกุล {surname} รหัส {ID}'\r\n",
        "  print (st)\r\n",
        "  st2=f'เกรดวิชา Data Viz >>> {grade}'\r\n",
        "  print(st2)"
      ],
      "execution_count": 31,
      "outputs": []
    },
    {
      "cell_type": "code",
      "metadata": {
        "colab": {
          "base_uri": "https://localhost:8080/"
        },
        "id": "B5HbJ286ZZ1o",
        "outputId": "81becb9c-2de3-4fb0-9d07-67051bd71019"
      },
      "source": [
        "print_2lines_default('สุภัทธา','ทิ้งไทยสงค์','6130210262')"
      ],
      "execution_count": 32,
      "outputs": [
        {
          "output_type": "stream",
          "text": [
            "ชื่อ สุภัทธา นามสกุล ทิ้งไทยสงค์ รหัส 6130210262\n",
            "เกรดวิชา Data Viz >>> A\n"
          ],
          "name": "stdout"
        }
      ]
    },
    {
      "cell_type": "code",
      "metadata": {
        "colab": {
          "base_uri": "https://localhost:8080/"
        },
        "id": "QtIaqeG7ZZzI",
        "outputId": "217656ba-c846-426e-cc16-0509f28fcfbc"
      },
      "source": [
        "print_2lines_default('สุภัทธา','ทิ้งไทยสงค์','6130210262','A')"
      ],
      "execution_count": 33,
      "outputs": [
        {
          "output_type": "stream",
          "text": [
            "ชื่อ สุภัทธา นามสกุล ทิ้งไทยสงค์ รหัส 6130210262\n",
            "เกรดวิชา Data Viz >>> A\n"
          ],
          "name": "stdout"
        }
      ]
    },
    {
      "cell_type": "markdown",
      "metadata": {
        "id": "8e3CdtH3cw9h"
      },
      "source": [
        "#LOOP คือ การวนซ้ำ"
      ]
    },
    {
      "cell_type": "markdown",
      "metadata": {
        "id": "y_D6362Uc37F"
      },
      "source": [
        "for เป็นคำที่ใช้บอก python ว่ากำลังเขียน loop โดย for จะวนดึงสมาชิกจาก listA มาทำ process do_something"
      ]
    },
    {
      "cell_type": "markdown",
      "metadata": {
        "id": "dcNwQe67c8SQ"
      },
      "source": [
        "\r\n",
        "```\r\n",
        "for each_member in listA :\r\n",
        "        do_something\r\n",
        "```"
      ]
    },
    {
      "cell_type": "markdown",
      "metadata": {
        "id": "lTy33TQ3dAda"
      },
      "source": [
        "**คำสั่ง for เป็นคำสั่งวนซ้ำที่ใช้ควบคุมการทำงานซ้ำๆ ในจำนวนรอบที่แน่นอน**"
      ]
    },
    {
      "cell_type": "code",
      "metadata": {
        "colab": {
          "base_uri": "https://localhost:8080/"
        },
        "id": "nXdVxDEKZZxq",
        "outputId": "a8655182-6977-4585-dae0-e9d6b7226b09"
      },
      "source": [
        "for i in [1,2,3] :\r\n",
        "    o = i**2\r\n",
        "    print (f'this member = {i} after process = {o}')"
      ],
      "execution_count": 34,
      "outputs": [
        {
          "output_type": "stream",
          "text": [
            "this member = 1 after process = 1\n",
            "this member = 2 after process = 4\n",
            "this member = 3 after process = 9\n"
          ],
          "name": "stdout"
        }
      ]
    },
    {
      "cell_type": "markdown",
      "metadata": {
        "id": "UhfN1EbcV5t_"
      },
      "source": [
        "ตัวอย่างการใช้คำสั่ง for ในการวนซ้ำค่าของ i เมื่อ i คือ 'Thanapong' และคำสั่ง print(f'{i} -> /') เพื่อกำหนดให้ผลลัพธ์แสดงสัญลักษณ์ -> / จากนั้นเพิ่มคำสั่ง print(' ') อีกครั้งเพื่อให้ผลลัพธ์มีการเว้นวรรค"
      ]
    },
    {
      "cell_type": "code",
      "metadata": {
        "id": "Zh69ujR8ZZqe",
        "outputId": "f01cc3a7-c5f7-4bb4-bfcb-398b7b8b0a49",
        "colab": {
          "base_uri": "https://localhost:8080/"
        }
      },
      "source": [
        "for i in 'Suphattha':\r\n",
        "    print(f'{i} -> / ' )"
      ],
      "execution_count": 35,
      "outputs": [
        {
          "output_type": "stream",
          "text": [
            "S -> / \n",
            "u -> / \n",
            "p -> / \n",
            "h -> / \n",
            "a -> / \n",
            "t -> / \n",
            "t -> / \n",
            "h -> / \n",
            "a -> / \n"
          ],
          "name": "stdout"
        }
      ]
    },
    {
      "cell_type": "code",
      "metadata": {
        "id": "_iT5xpP9VV5P",
        "colab": {
          "base_uri": "https://localhost:8080/"
        },
        "outputId": "8d076e8a-3b44-4efe-959c-dc76c2a4f1c9"
      },
      "source": [
        "for i in 'Suphattha':\r\n",
        "  print(f'{i}->/',end='') #สั่งให้ print แบบ ไม่เว้นบรรทัด"
      ],
      "execution_count": 36,
      "outputs": [
        {
          "output_type": "stream",
          "text": [
            "S->/u->/p->/h->/a->/t->/t->/h->/a->/"
          ],
          "name": "stdout"
        }
      ]
    },
    {
      "cell_type": "code",
      "metadata": {
        "id": "MrfwZePhVWPs",
        "colab": {
          "base_uri": "https://localhost:8080/"
        },
        "outputId": "06bd9591-af1f-43bf-da03-eb7b134a91a4"
      },
      "source": [
        "for i in 'Suphattha':\r\n",
        "  print(f'{i}->/',end=',') #สั่งให้ แบบ ไม่เว้นบรรทัด"
      ],
      "execution_count": 37,
      "outputs": [
        {
          "output_type": "stream",
          "text": [
            "S->/,u->/,p->/,h->/,a->/,t->/,t->/,h->/,a->/,"
          ],
          "name": "stdout"
        }
      ]
    },
    {
      "cell_type": "markdown",
      "metadata": {
        "id": "8wapsvgeYT6e"
      },
      "source": [
        "##สร้าง list ตัวเลขแบบอัตโนมัติ range()"
      ]
    },
    {
      "cell_type": "code",
      "metadata": {
        "id": "F6faw4j5VWyE",
        "colab": {
          "base_uri": "https://localhost:8080/"
        },
        "outputId": "f81a92eb-95ba-404c-b3b6-a48cf8a24563"
      },
      "source": [
        "range5_output = range(5)\r\n",
        "print(list(range5_output))"
      ],
      "execution_count": 38,
      "outputs": [
        {
          "output_type": "stream",
          "text": [
            "[0, 1, 2, 3, 4]\n"
          ],
          "name": "stdout"
        }
      ]
    },
    {
      "cell_type": "code",
      "metadata": {
        "id": "lPq1nwAjVW8G",
        "colab": {
          "base_uri": "https://localhost:8080/"
        },
        "outputId": "32525714-845a-4de8-db38-b8fb416f0d29"
      },
      "source": [
        "for i in range(100):\r\n",
        "  print('งง',end=' ')"
      ],
      "execution_count": 39,
      "outputs": [
        {
          "output_type": "stream",
          "text": [
            "งง งง งง งง งง งง งง งง งง งง งง งง งง งง งง งง งง งง งง งง งง งง งง งง งง งง งง งง งง งง งง งง งง งง งง งง งง งง งง งง งง งง งง งง งง งง งง งง งง งง งง งง งง งง งง งง งง งง งง งง งง งง งง งง งง งง งง งง งง งง งง งง งง งง งง งง งง งง งง งง งง งง งง งง งง งง งง งง งง งง งง งง งง งง งง งง งง งง งง งง "
          ],
          "name": "stdout"
        }
      ]
    },
    {
      "cell_type": "code",
      "metadata": {
        "id": "CQF-nN7SZZn7",
        "colab": {
          "base_uri": "https://localhost:8080/"
        },
        "outputId": "3a708cbb-186e-43c7-f7e4-035044236754"
      },
      "source": [
        "list(range(1,11)) #เริ่มต้นเป็นวงเล็บ จบเป็นวงกลมโปร่ง เหมือน list slicing"
      ],
      "execution_count": 40,
      "outputs": [
        {
          "output_type": "execute_result",
          "data": {
            "text/plain": [
              "[1, 2, 3, 4, 5, 6, 7, 8, 9, 10]"
            ]
          },
          "metadata": {
            "tags": []
          },
          "execution_count": 40
        }
      ]
    },
    {
      "cell_type": "code",
      "metadata": {
        "id": "q1oOxhloZZt8",
        "colab": {
          "base_uri": "https://localhost:8080/"
        },
        "outputId": "a5ff94c8-8303-495e-c3c0-f595cfcad5e1"
      },
      "source": [
        "list(range(-3,20,4))"
      ],
      "execution_count": 41,
      "outputs": [
        {
          "output_type": "execute_result",
          "data": {
            "text/plain": [
              "[-3, 1, 5, 9, 13, 17]"
            ]
          },
          "metadata": {
            "tags": []
          },
          "execution_count": 41
        }
      ]
    },
    {
      "cell_type": "markdown",
      "metadata": {
        "id": "gApip8Ywc9yp"
      },
      "source": [
        "## loop in loop\r\n",
        "สามารถใช้ for loop ซ้อนกันสอบรอบได้"
      ]
    },
    {
      "cell_type": "code",
      "metadata": {
        "id": "AtA0gqO8ZZlv",
        "outputId": "ed2c5d27-0aed-46e3-c6f4-b33a29200b9b",
        "colab": {
          "base_uri": "https://localhost:8080/"
        }
      },
      "source": [
        "for name1 in  range(2,5): #(2, 3, 4)\r\n",
        "    print(f'now name1 = {name1}')\r\n",
        "    for name2 in  range(1,13):\r\n",
        "        print(name1,' x ',name2,' = ',name1*name2)\r\n",
        "    print('the inner loop is end')"
      ],
      "execution_count": 42,
      "outputs": [
        {
          "output_type": "stream",
          "text": [
            "now name1 = 2\n",
            "2  x  1  =  2\n",
            "2  x  2  =  4\n",
            "2  x  3  =  6\n",
            "2  x  4  =  8\n",
            "2  x  5  =  10\n",
            "2  x  6  =  12\n",
            "2  x  7  =  14\n",
            "2  x  8  =  16\n",
            "2  x  9  =  18\n",
            "2  x  10  =  20\n",
            "2  x  11  =  22\n",
            "2  x  12  =  24\n",
            "the inner loop is end\n",
            "now name1 = 3\n",
            "3  x  1  =  3\n",
            "3  x  2  =  6\n",
            "3  x  3  =  9\n",
            "3  x  4  =  12\n",
            "3  x  5  =  15\n",
            "3  x  6  =  18\n",
            "3  x  7  =  21\n",
            "3  x  8  =  24\n",
            "3  x  9  =  27\n",
            "3  x  10  =  30\n",
            "3  x  11  =  33\n",
            "3  x  12  =  36\n",
            "the inner loop is end\n",
            "now name1 = 4\n",
            "4  x  1  =  4\n",
            "4  x  2  =  8\n",
            "4  x  3  =  12\n",
            "4  x  4  =  16\n",
            "4  x  5  =  20\n",
            "4  x  6  =  24\n",
            "4  x  7  =  28\n",
            "4  x  8  =  32\n",
            "4  x  9  =  36\n",
            "4  x  10  =  40\n",
            "4  x  11  =  44\n",
            "4  x  12  =  48\n",
            "the inner loop is end\n"
          ],
          "name": "stdout"
        }
      ]
    },
    {
      "cell_type": "code",
      "metadata": {
        "id": "gox0VqXRZZjT",
        "colab": {
          "base_uri": "https://localhost:8080/"
        },
        "outputId": "f7058fec-15b6-46e6-a245-496af838325f"
      },
      "source": [
        "for name1 in range(2,5): #(2,3,4)\r\n",
        "    print(f'now name1={name1}')\r\n",
        "    for name2 in range(1,13):\r\n",
        "         print(name1,'x',name2,'=',name1*name2)"
      ],
      "execution_count": 43,
      "outputs": [
        {
          "output_type": "stream",
          "text": [
            "now name1=2\n",
            "2 x 1 = 2\n",
            "2 x 2 = 4\n",
            "2 x 3 = 6\n",
            "2 x 4 = 8\n",
            "2 x 5 = 10\n",
            "2 x 6 = 12\n",
            "2 x 7 = 14\n",
            "2 x 8 = 16\n",
            "2 x 9 = 18\n",
            "2 x 10 = 20\n",
            "2 x 11 = 22\n",
            "2 x 12 = 24\n",
            "now name1=3\n",
            "3 x 1 = 3\n",
            "3 x 2 = 6\n",
            "3 x 3 = 9\n",
            "3 x 4 = 12\n",
            "3 x 5 = 15\n",
            "3 x 6 = 18\n",
            "3 x 7 = 21\n",
            "3 x 8 = 24\n",
            "3 x 9 = 27\n",
            "3 x 10 = 30\n",
            "3 x 11 = 33\n",
            "3 x 12 = 36\n",
            "now name1=4\n",
            "4 x 1 = 4\n",
            "4 x 2 = 8\n",
            "4 x 3 = 12\n",
            "4 x 4 = 16\n",
            "4 x 5 = 20\n",
            "4 x 6 = 24\n",
            "4 x 7 = 28\n",
            "4 x 8 = 32\n",
            "4 x 9 = 36\n",
            "4 x 10 = 40\n",
            "4 x 11 = 44\n",
            "4 x 12 = 48\n"
          ],
          "name": "stdout"
        }
      ]
    },
    {
      "cell_type": "markdown",
      "metadata": {
        "id": "Kjt5Cf2YfLI-"
      },
      "source": [
        "##loop in function\r\n",
        "การวนลูปในฟังก์ชั่น"
      ]
    },
    {
      "cell_type": "code",
      "metadata": {
        "id": "F-eAI0f8fGW_"
      },
      "source": [
        "def print_feelings(I,friends,feeling='คิดถึง'):\r\n",
        "   for friend in friends:\r\n",
        "     print(f'{I}{feeling}{friend}')"
      ],
      "execution_count": 44,
      "outputs": []
    },
    {
      "cell_type": "code",
      "metadata": {
        "id": "e0DejhBNfGfZ"
      },
      "source": [
        "list_friends=['หวาน','เตย','แบม','นิว','ปอ','ออม']"
      ],
      "execution_count": 45,
      "outputs": []
    },
    {
      "cell_type": "code",
      "metadata": {
        "id": "ZyoQ6hmBfHa8",
        "colab": {
          "base_uri": "https://localhost:8080/"
        },
        "outputId": "3a41bcdf-20fa-47ee-f6d0-b1c82ed2e009"
      },
      "source": [
        "print_feelings('ออมสิน',list_friends)"
      ],
      "execution_count": 46,
      "outputs": [
        {
          "output_type": "stream",
          "text": [
            "ออมสินคิดถึงหวาน\n",
            "ออมสินคิดถึงเตย\n",
            "ออมสินคิดถึงแบม\n",
            "ออมสินคิดถึงนิว\n",
            "ออมสินคิดถึงปอ\n",
            "ออมสินคิดถึงออม\n"
          ],
          "name": "stdout"
        }
      ]
    },
    {
      "cell_type": "code",
      "metadata": {
        "id": "RPx0GgSAfHiO",
        "outputId": "bfad9033-7eea-4b71-f0b2-4f40831db591",
        "colab": {
          "base_uri": "https://localhost:8080/"
        }
      },
      "source": [
        "print_feelings('ออมสิน',list_friends,feeling='รัก')"
      ],
      "execution_count": 51,
      "outputs": [
        {
          "output_type": "stream",
          "text": [
            "ออมสินรักหวาน\n",
            "ออมสินรักเตย\n",
            "ออมสินรักแบม\n",
            "ออมสินรักนิว\n",
            "ออมสินรักปอ\n",
            "ออมสินรักออม\n"
          ],
          "name": "stdout"
        }
      ]
    },
    {
      "cell_type": "code",
      "metadata": {
        "id": "DE6x36U-zEt8",
        "outputId": "749cbe24-3d51-4dbb-c0da-82fd591a0b1b",
        "colab": {
          "base_uri": "https://localhost:8080/"
        }
      },
      "source": [
        "print_feelings('ออมสิน',list_friends,'รัก')"
      ],
      "execution_count": 52,
      "outputs": [
        {
          "output_type": "stream",
          "text": [
            "ออมสินรักหวาน\n",
            "ออมสินรักเตย\n",
            "ออมสินรักแบม\n",
            "ออมสินรักนิว\n",
            "ออมสินรักปอ\n",
            "ออมสินรักออม\n"
          ],
          "name": "stdout"
        }
      ]
    },
    {
      "cell_type": "markdown",
      "metadata": {
        "id": "TgaDgDbpzQNd"
      },
      "source": [
        "##looping in dict"
      ]
    },
    {
      "cell_type": "markdown",
      "metadata": {
        "id": "RVh1eaLhzUnd"
      },
      "source": [
        "ทำการวนลูปในค่า dict โดยที่เรากำหนดตัว key และvalueขึ้นมา ได้ดังนี้"
      ]
    },
    {
      "cell_type": "code",
      "metadata": {
        "id": "Eixx9sN7zKo4",
        "outputId": "a989c70c-27a9-4450-c754-3db89ed17d75",
        "colab": {
          "base_uri": "https://localhost:8080/"
        }
      },
      "source": [
        "name_grade = {'พันทิพา' : 'B','ศุภนิตา' : 'C','ปนัดดา' : 'A','ทรงกลด' : 'F'}\r\n",
        "name_grade"
      ],
      "execution_count": 53,
      "outputs": [
        {
          "output_type": "execute_result",
          "data": {
            "text/plain": [
              "{'ทรงกลด': 'F', 'ปนัดดา': 'A', 'พันทิพา': 'B', 'ศุภนิตา': 'C'}"
            ]
          },
          "metadata": {
            "tags": []
          },
          "execution_count": 53
        }
      ]
    },
    {
      "cell_type": "code",
      "metadata": {
        "id": "HDNwUHKfzXvh",
        "outputId": "21a392c0-0e8c-487c-eaca-dbcb35c20e70",
        "colab": {
          "base_uri": "https://localhost:8080/",
          "height": 35
        }
      },
      "source": [
        "name_grade['ปนัดดา']"
      ],
      "execution_count": 54,
      "outputs": [
        {
          "output_type": "execute_result",
          "data": {
            "application/vnd.google.colaboratory.intrinsic+json": {
              "type": "string"
            },
            "text/plain": [
              "'A'"
            ]
          },
          "metadata": {
            "tags": []
          },
          "execution_count": 54
        }
      ]
    },
    {
      "cell_type": "code",
      "metadata": {
        "id": "SveanXkSzaX5",
        "outputId": "ed7c306c-b913-4286-d15e-a00f29948041",
        "colab": {
          "base_uri": "https://localhost:8080/"
        }
      },
      "source": [
        "for i in name_grade.keys():\r\n",
        "    print(i)"
      ],
      "execution_count": 55,
      "outputs": [
        {
          "output_type": "stream",
          "text": [
            "พันทิพา\n",
            "ศุภนิตา\n",
            "ปนัดดา\n",
            "ทรงกลด\n"
          ],
          "name": "stdout"
        }
      ]
    },
    {
      "cell_type": "code",
      "metadata": {
        "id": "SCnX0MFUzfOi",
        "outputId": "d4c0411f-b7f1-40d3-adf5-b30e5b20b5d3",
        "colab": {
          "base_uri": "https://localhost:8080/"
        }
      },
      "source": [
        "name_grade.keys()"
      ],
      "execution_count": 56,
      "outputs": [
        {
          "output_type": "execute_result",
          "data": {
            "text/plain": [
              "dict_keys(['พันทิพา', 'ศุภนิตา', 'ปนัดดา', 'ทรงกลด'])"
            ]
          },
          "metadata": {
            "tags": []
          },
          "execution_count": 56
        }
      ]
    },
    {
      "cell_type": "code",
      "metadata": {
        "id": "o_-EGrpzzi_e",
        "outputId": "5401d5b4-5b68-4a63-88b0-5678cd5486e0",
        "colab": {
          "base_uri": "https://localhost:8080/"
        }
      },
      "source": [
        "for i in name_grade.keys():\r\n",
        "    print(f'{i} ได้เกรด {name_grade[i]}')"
      ],
      "execution_count": 57,
      "outputs": [
        {
          "output_type": "stream",
          "text": [
            "พันทิพา ได้เกรด B\n",
            "ศุภนิตา ได้เกรด C\n",
            "ปนัดดา ได้เกรด A\n",
            "ทรงกลด ได้เกรด F\n"
          ],
          "name": "stdout"
        }
      ]
    },
    {
      "cell_type": "markdown",
      "metadata": {
        "id": "f2es-8FNj7TX"
      },
      "source": [
        "##conditional คือ เงื่อนไข/ประโยคเงื่อนไข"
      ]
    },
    {
      "cell_type": "markdown",
      "metadata": {
        "id": "2gOKRTmCkOTi"
      },
      "source": [
        "##True/False\r\n",
        "การวนลูปโดยมีเงื่อนไขต่างๆมาเกี่ยวข้อง โดยมี pattern ดังนี้"
      ]
    },
    {
      "cell_type": "markdown",
      "metadata": {
        "id": "89NBKeBPzxc8"
      },
      "source": [
        "```Python\r\n",
        "if condition1 :\r\n",
        "    do something\r\n",
        "elif condition2 :  #elif คือ else if\r\n",
        "    do another thing\r\n",
        "else:\r\n",
        "    do ...\r\n",
        "```\r\n",
        "    "
      ]
    },
    {
      "cell_type": "code",
      "metadata": {
        "id": "kUTrMmYhz1yC",
        "outputId": "ce63b834-f201-47cc-c5c9-32a6bd3869d5",
        "colab": {
          "base_uri": "https://localhost:8080/"
        }
      },
      "source": [
        "print(list_friends)"
      ],
      "execution_count": 58,
      "outputs": [
        {
          "output_type": "stream",
          "text": [
            "['หวาน', 'เตย', 'แบม', 'นิว', 'ปอ', 'ออม']\n"
          ],
          "name": "stdout"
        }
      ]
    },
    {
      "cell_type": "code",
      "metadata": {
        "id": "MAtA9k_JfHpQ",
        "colab": {
          "base_uri": "https://localhost:8080/"
        },
        "outputId": "3da30660-c782-482e-c6c8-13b03a687cb2"
      },
      "source": [
        "for name1 in list_friends:\r\n",
        "  for name2 in list_friends:\r\n",
        "    if name1 !=name2:#ไม่ปริ้นชื่อคนเดียวกันซ้ำ\r\n",
        "       print(name1,'รัก',name2)"
      ],
      "execution_count": 47,
      "outputs": [
        {
          "output_type": "stream",
          "text": [
            "หวาน รัก เตย\n",
            "หวาน รัก แบม\n",
            "หวาน รัก นิว\n",
            "หวาน รัก ปอ\n",
            "หวาน รัก ออม\n",
            "เตย รัก หวาน\n",
            "เตย รัก แบม\n",
            "เตย รัก นิว\n",
            "เตย รัก ปอ\n",
            "เตย รัก ออม\n",
            "แบม รัก หวาน\n",
            "แบม รัก เตย\n",
            "แบม รัก นิว\n",
            "แบม รัก ปอ\n",
            "แบม รัก ออม\n",
            "นิว รัก หวาน\n",
            "นิว รัก เตย\n",
            "นิว รัก แบม\n",
            "นิว รัก ปอ\n",
            "นิว รัก ออม\n",
            "ปอ รัก หวาน\n",
            "ปอ รัก เตย\n",
            "ปอ รัก แบม\n",
            "ปอ รัก นิว\n",
            "ปอ รัก ออม\n",
            "ออม รัก หวาน\n",
            "ออม รัก เตย\n",
            "ออม รัก แบม\n",
            "ออม รัก นิว\n",
            "ออม รัก ปอ\n"
          ],
          "name": "stdout"
        }
      ]
    },
    {
      "cell_type": "code",
      "metadata": {
        "id": "cce7NU4dj9NP",
        "outputId": "564d35f7-c60c-4d65-bff9-1a04a0df602b",
        "colab": {
          "base_uri": "https://localhost:8080/"
        }
      },
      "source": [
        "for name1 in list_friends:\r\n",
        "    for name2 in list_friends:\r\n",
        "        if name1 == name2: #ปริ้นชื่อคนเดียวกันซ้ำ\r\n",
        "            print(name1,'รัก',name2)"
      ],
      "execution_count": 59,
      "outputs": [
        {
          "output_type": "stream",
          "text": [
            "หวาน รัก หวาน\n",
            "เตย รัก เตย\n",
            "แบม รัก แบม\n",
            "นิว รัก นิว\n",
            "ปอ รัก ปอ\n",
            "ออม รัก ออม\n"
          ],
          "name": "stdout"
        }
      ]
    },
    {
      "cell_type": "code",
      "metadata": {
        "id": "bkqK0YPR0CX3",
        "outputId": "eb77dda8-88e3-47b4-e203-3abe35bb3b51",
        "colab": {
          "base_uri": "https://localhost:8080/"
        }
      },
      "source": [
        "for name1 in list_friends:\r\n",
        "    for name2 in list_friends:\r\n",
        "        if name1 == name2: \r\n",
        "            'do nothing'\r\n",
        "        else:\r\n",
        "            print(name1,'รัก',name2)"
      ],
      "execution_count": 60,
      "outputs": [
        {
          "output_type": "stream",
          "text": [
            "หวาน รัก เตย\n",
            "หวาน รัก แบม\n",
            "หวาน รัก นิว\n",
            "หวาน รัก ปอ\n",
            "หวาน รัก ออม\n",
            "เตย รัก หวาน\n",
            "เตย รัก แบม\n",
            "เตย รัก นิว\n",
            "เตย รัก ปอ\n",
            "เตย รัก ออม\n",
            "แบม รัก หวาน\n",
            "แบม รัก เตย\n",
            "แบม รัก นิว\n",
            "แบม รัก ปอ\n",
            "แบม รัก ออม\n",
            "นิว รัก หวาน\n",
            "นิว รัก เตย\n",
            "นิว รัก แบม\n",
            "นิว รัก ปอ\n",
            "นิว รัก ออม\n",
            "ปอ รัก หวาน\n",
            "ปอ รัก เตย\n",
            "ปอ รัก แบม\n",
            "ปอ รัก นิว\n",
            "ปอ รัก ออม\n",
            "ออม รัก หวาน\n",
            "ออม รัก เตย\n",
            "ออม รัก แบม\n",
            "ออม รัก นิว\n",
            "ออม รัก ปอ\n"
          ],
          "name": "stdout"
        }
      ]
    },
    {
      "cell_type": "markdown",
      "metadata": {
        "id": "yJnyivg40Fl-"
      },
      "source": [
        "#### ==, !=,>=,<=,<,>"
      ]
    },
    {
      "cell_type": "code",
      "metadata": {
        "id": "4NROkLRw0H-Z",
        "outputId": "1ed99fdf-471a-454f-dcb3-c96380aa3d25",
        "colab": {
          "base_uri": "https://localhost:8080/"
        }
      },
      "source": [
        "'พี่บูม' == 'พี่เจ็ท'"
      ],
      "execution_count": 61,
      "outputs": [
        {
          "output_type": "execute_result",
          "data": {
            "text/plain": [
              "False"
            ]
          },
          "metadata": {
            "tags": []
          },
          "execution_count": 61
        }
      ]
    },
    {
      "cell_type": "code",
      "metadata": {
        "id": "--CnNDXO0MZA",
        "outputId": "b3de58c6-5837-442d-d7b6-59c2f2c363dd",
        "colab": {
          "base_uri": "https://localhost:8080/"
        }
      },
      "source": [
        "'พี่บูม' != 'พี่เจ็ท'"
      ],
      "execution_count": 62,
      "outputs": [
        {
          "output_type": "execute_result",
          "data": {
            "text/plain": [
              "True"
            ]
          },
          "metadata": {
            "tags": []
          },
          "execution_count": 62
        }
      ]
    },
    {
      "cell_type": "markdown",
      "metadata": {
        "id": "80CJSytX0PT0"
      },
      "source": [
        "#### หากหลังเงื่อนไข True ถูกต้องจะทำการ print ข้อความออกมาว่า Yes"
      ]
    },
    {
      "cell_type": "code",
      "metadata": {
        "id": "1lrVsLEI0QPI",
        "outputId": "72bd5563-a683-4b88-c5a0-698d2424a6c1",
        "colab": {
          "base_uri": "https://localhost:8080/"
        }
      },
      "source": [
        "if True:\r\n",
        "    print('Yes')"
      ],
      "execution_count": 63,
      "outputs": [
        {
          "output_type": "stream",
          "text": [
            "Yes\n"
          ],
          "name": "stdout"
        }
      ]
    },
    {
      "cell_type": "code",
      "metadata": {
        "id": "GApgtS6T0TOw"
      },
      "source": [
        "if False:\r\n",
        "    print('No')"
      ],
      "execution_count": 64,
      "outputs": []
    },
    {
      "cell_type": "markdown",
      "metadata": {
        "id": "FraeQwp40YzA"
      },
      "source": [
        "#### หากหลังเงื่อนไข False ไม่ถูกต้องจะไม่ปริ้นข้อความใดๆออกมา\r\n",
        "#### ซึ่งจะต้องใช้เงื่อนไขนี้ จึงจะได้ปริ้นค่าเงื่อนไขนั้นออกมา ดังนี้"
      ]
    },
    {
      "cell_type": "code",
      "metadata": {
        "id": "Jg8nrNsI0bhr",
        "outputId": "08176627-af9b-4911-8249-2473a9257da5",
        "colab": {
          "base_uri": "https://localhost:8080/"
        }
      },
      "source": [
        "if False:\r\n",
        "    print('Yes')\r\n",
        "else:\r\n",
        "    print('No')"
      ],
      "execution_count": 65,
      "outputs": [
        {
          "output_type": "stream",
          "text": [
            "No\n"
          ],
          "name": "stdout"
        }
      ]
    },
    {
      "cell_type": "markdown",
      "metadata": {
        "id": "cIR9UWIToAU3"
      },
      "source": [
        "##HW\r\n",
        "เขียน function ตัดเกรด โดยที่ input เป็นคะแนน(0-100),output เป็นเกรด (F-A)\r\n",
        "วนลูปตัดเกรด input=[1,50,65,90,101,-5,49]"
      ]
    },
    {
      "cell_type": "markdown",
      "metadata": {
        "id": "92RUNYkRo5ja"
      },
      "source": [
        "\r\n",
        "\r\n",
        "\r\n",
        "\r\n",
        "---\r\n",
        "\r\n",
        "\r\n",
        "\r\n",
        "กำหนด\r\n",
        "ถ้าคะแนนอยู่ระหว่างมากกว่าหรือเท่ากับ 0 แต่น้อยกว่า 50 จะได้เกรด F\r\n",
        "\r\n",
        "ถ้าคะแนนอยู่ระหว่างมากกว่าหรือเท่ากับ 50 แต่น้อยกว่า 55 จะได้เกรด D\r\n",
        "\r\n",
        "ถ้าคะแนนอยู่ระหว่างมากกว่าหรือเท่ากับ 55 แต่น้อยกว่า 60 จะได้เกรด D+\r\n",
        "\r\n",
        "ถ้าคะแนนอยู่ระหว่างมากกว่าหรือเท่ากับ 60 แต่น้อยกว่า 65 จะได้เกรด C\r\n",
        "\r\n",
        "ถ้าคะแนนอยู่ระหว่างมากกว่าหรือเท่ากับ 65 แต่น้อยกว่า 70 จะได้เกรด C+\r\n",
        "\r\n",
        "ถ้าคะแนนอยู่ระหว่างมากกว่าหรือเท่ากับ 70 แต่น้อยกว่า 75 จะได้เกรด B\r\n",
        "\r\n",
        "ถ้าคะแนนอยู่ระหว่างมากกว่าหรือเท่ากับ 75 แต่น้อยกว่า 80 จะได้เกรด B+\r\n",
        "\r\n",
        "ถ้าคะแนนอยู่ระหว่างมากกว่าหรือเท่ากับ 80 จะได้เกรด A\r\n",
        "\r\n",
        "แต่ว่าค่าคะแนนจะต้องไม่ต่ำกว่า 0 และมากกว่า100ไม่งั้นจะเกิด Error\r\n",
        "\r\n",
        "\r\n",
        "---\r\n",
        "\r\n"
      ]
    },
    {
      "cell_type": "code",
      "metadata": {
        "id": "pEcwMnK8j-zX"
      },
      "source": [
        "def GPA(score) :\r\n",
        "    if score > 100 :\r\n",
        "       print(f'Error')\r\n",
        "    elif 80 <= score < 101 :\r\n",
        "       print(f'คะแนนที่ได้คือ {score} เกรดที่ได้คือ A')\r\n",
        "    elif 75 <= score < 80  :\r\n",
        "       print(f'คะแนนที่ได้คือ {score} เกรดที่ได้คือ B+')\r\n",
        "    elif 70 <= score < 75  :\r\n",
        "       print(f'คะแนนที่ได้คือ {score} เกรดที่ได้คือ B')\r\n",
        "    elif 65 <= score < 70 :\r\n",
        "       print(f'คะแนนที่ได้คือ {score} เกรดที่ได้คือ C+')\r\n",
        "    elif 60 <= score < 65 :\r\n",
        "       print(f'คะแนนที่ได้คือ {score} เกรดที่ได้คือ C')\r\n",
        "    elif 55 <= score < 60 :\r\n",
        "       print(f'คะแนนที่ได้คือ {score} เกรดที่ได้คือ D+')\r\n",
        "    elif 50 <= score < 55 :\r\n",
        "       print(f'คะแนนที่ได้คือ {score} เกรดที่ได้คือ D')\r\n",
        "    elif 0 <= score < 50 :\r\n",
        "       print(f'คะแนนที่ได้คือ {score} เกรดที่ได้คือ F')\r\n",
        "    elif score < 0 :\r\n",
        "       print(f'Error')"
      ],
      "execution_count": 48,
      "outputs": []
    },
    {
      "cell_type": "code",
      "metadata": {
        "id": "xYXvkSYCj-_Q",
        "colab": {
          "base_uri": "https://localhost:8080/"
        },
        "outputId": "91600c28-a74d-49e6-cdd8-c43f410eb47a"
      },
      "source": [
        "list_gpa = [1,50,65,90,101,-5,49]\r\n",
        "list_gpa"
      ],
      "execution_count": 49,
      "outputs": [
        {
          "output_type": "execute_result",
          "data": {
            "text/plain": [
              "[1, 50, 65, 90, 101, -5, 49]"
            ]
          },
          "metadata": {
            "tags": []
          },
          "execution_count": 49
        }
      ]
    },
    {
      "cell_type": "code",
      "metadata": {
        "id": "9ELNabVTP087",
        "colab": {
          "base_uri": "https://localhost:8080/"
        },
        "outputId": "d9de220d-b413-40e8-a411-36f5d477c016"
      },
      "source": [
        "for i in list_gpa :\r\n",
        "    GPA(i)"
      ],
      "execution_count": 50,
      "outputs": [
        {
          "output_type": "stream",
          "text": [
            "คะแนนที่ได้คือ 1 เกรดที่ได้คือ F\n",
            "คะแนนที่ได้คือ 50 เกรดที่ได้คือ D\n",
            "คะแนนที่ได้คือ 65 เกรดที่ได้คือ C+\n",
            "คะแนนที่ได้คือ 90 เกรดที่ได้คือ A\n",
            "Error\n",
            "Error\n",
            "คะแนนที่ได้คือ 49 เกรดที่ได้คือ F\n"
          ],
          "name": "stdout"
        }
      ]
    }
  ]
}