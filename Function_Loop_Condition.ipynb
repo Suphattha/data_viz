{
  "nbformat": 4,
  "nbformat_minor": 0,
  "metadata": {
    "colab": {
      "name": "Function_Loop_Condition.ipynb",
      "provenance": [],
      "authorship_tag": "ABX9TyPK5vxu6ve9Mr3WbCyHktvz",
      "include_colab_link": true
    },
    "kernelspec": {
      "name": "python3",
      "display_name": "Python 3"
    }
  },
  "cells": [
    {
      "cell_type": "markdown",
      "metadata": {
        "id": "view-in-github",
        "colab_type": "text"
      },
      "source": [
        "<a href=\"https://colab.research.google.com/github/Suphattha/data_viz/blob/main/Function_Loop_Condition.ipynb\" target=\"_parent\"><img src=\"https://colab.research.google.com/assets/colab-badge.svg\" alt=\"Open In Colab\"/></a>"
      ]
    },
    {
      "cell_type": "code",
      "metadata": {
        "colab": {
          "base_uri": "https://localhost:8080/"
        },
        "id": "vpnnzdAOWBJN",
        "outputId": "80cdd4d0-fc29-4541-8f93-b478015c4848"
      },
      "source": [
        "name = 'สุภัทธา'\r\n",
        "surname = 'ทิ้งไทยสงค์'\r\n",
        "ID = '613021026-2'\r\n",
        "\r\n",
        "b= f'ชื่อ {name} นามสกุล {surname} รหัส {ID}'\r\n",
        "print(b)"
      ],
      "execution_count": null,
      "outputs": [
        {
          "output_type": "stream",
          "text": [
            "ชื่อ สุภัทธา นามสกุล ทิ้งไทยสงค์ รหัส 613021026-2\n"
          ],
          "name": "stdout"
        }
      ]
    },
    {
      "cell_type": "markdown",
      "metadata": {
        "id": "NvS_PxrEZXO8"
      },
      "source": [
        "#Function"
      ]
    },
    {
      "cell_type": "markdown",
      "metadata": {
        "id": "UenjueHVZfag"
      },
      "source": [
        "ทำหน้าที่รับ input มาประมวลผลออกเป็น output\r\n",
        "\r\n",
        "f(x) = y โดยที่ x คือ input\r\n",
        "\r\n",
        "y คือ output"
      ]
    },
    {
      "cell_type": "markdown",
      "metadata": {
        "id": "piDmOVTxZlgi"
      },
      "source": [
        "# def คือ การกำหนดฟังก์ชัน"
      ]
    },
    {
      "cell_type": "markdown",
      "metadata": {
        "id": "Jup0XItmZwYW"
      },
      "source": [
        "```python\r\n",
        "     def function_name(_Input_) :\r\n",
        "        do_something with _Input_ to get _Output_\r\n",
        "        return\r\n",
        "```\r\n",
        "\r\n",
        "\r\n"
      ]
    },
    {
      "cell_type": "markdown",
      "metadata": {
        "id": "hiozL8XoZ4qH"
      },
      "source": [
        "backtick (`) ==> กด ~ ค้าง, alt - 9>6 (full keyboard with number)\r\n",
        "\r\n",
        "tilde (~)\r\n",
        "\r\n",
        "curly bracket ({ })\r\n",
        "\r\n",
        "square bracket ([ ])"
      ]
    },
    {
      "cell_type": "markdown",
      "metadata": {
        "id": "sSalA-uUZ4eg"
      },
      "source": [
        "function มีส่วนสำคัญ 4 ส่วน\r\n",
        "\r\n",
        "1.   บอก python ว่าเราจะเขียนฟังก์ชั่น ชื่ออะไร  def function_name(): (ขาดไม่ได้)\r\n",
        "2.   กำหนดตัวแปรที่จะเป็น input  _Input_ (ขาดได้)\r\n",
        "3.   ส่วนประมวลผล do_something with _Input_ to get _Output_ (ขาดไม่ได้)\r\n",
        "4.   ส่วน output return _Output_(ขาดได้)\r\n"
      ]
    },
    {
      "cell_type": "markdown",
      "metadata": {
        "id": "8Npp7vHgZ_kF"
      },
      "source": [
        "ตัวอย่างการเขียน normal function"
      ]
    },
    {
      "cell_type": "code",
      "metadata": {
        "id": "d2hTwopBZYjD"
      },
      "source": [
        "def print_name(surname,ID,name) :\r\n",
        "  st = f'ชื่อ {name} นามสกุล {surname} รหัส {ID}'\r\n",
        "  return st"
      ],
      "execution_count": null,
      "outputs": []
    },
    {
      "cell_type": "code",
      "metadata": {
        "colab": {
          "base_uri": "https://localhost:8080/",
          "height": 35
        },
        "id": "ZeAUq2udZc9r",
        "outputId": "84137493-a057-45b2-d327-5104f3464cb3"
      },
      "source": [
        "print_name('ทิ้งไทยสงค์','6130210262','สุภัทธา')"
      ],
      "execution_count": null,
      "outputs": [
        {
          "output_type": "execute_result",
          "data": {
            "application/vnd.google.colaboratory.intrinsic+json": {
              "type": "string"
            },
            "text/plain": [
              "'ชื่อ สุภัทธา นามสกุล ทิ้งไทยสงค์ รหัส 6130210262'"
            ]
          },
          "metadata": {
            "tags": []
          },
          "execution_count": 4
        }
      ]
    },
    {
      "cell_type": "code",
      "metadata": {
        "colab": {
          "base_uri": "https://localhost:8080/"
        },
        "id": "RcP5vPPWZc57",
        "outputId": "8a660220-c5b5-47d6-ec3f-ce899e44a4c3"
      },
      "source": [
        "print(print_name(name='สุภัทธา',surname='ทิ้งไทยสงค์',ID='6130210262'))"
      ],
      "execution_count": null,
      "outputs": [
        {
          "output_type": "stream",
          "text": [
            "ชื่อ สุภัทธา นามสกุล ทิ้งไทยสงค์ รหัส 6130210262\n"
          ],
          "name": "stdout"
        }
      ]
    },
    {
      "cell_type": "markdown",
      "metadata": {
        "id": "1GTf-dhHasTF"
      },
      "source": [
        "ใช้ เว้นวรรค (indent) เพื่อบอกขอบเขตของโปรแกรม"
      ]
    },
    {
      "cell_type": "markdown",
      "metadata": {
        "id": "Tk7KF5umasFY"
      },
      "source": [
        "สามารถเพิ่มคำสั่งเข้าไปในฟังก์ชันได้อีก โดยการเปลี่ยนคำสั่ง return เป็น print() เช่น ตัวอย่างดังนี้ ได้ทำการเพิ่ม st2 ="
      ]
    },
    {
      "cell_type": "code",
      "metadata": {
        "id": "btH_k-A4Zc3v"
      },
      "source": [
        "def print_name2(name,surname,ID) :\r\n",
        "     st2 = f'ชื่อ {name} นามสกุล {surname} รหัส {ID}'\r\n",
        "     print(st2)"
      ],
      "execution_count": null,
      "outputs": []
    },
    {
      "cell_type": "code",
      "metadata": {
        "colab": {
          "base_uri": "https://localhost:8080/"
        },
        "id": "aHBZOG8wZc1_",
        "outputId": "511a2d29-24cb-4d9b-cac2-8b2e328f6d77"
      },
      "source": [
        "print_name2(name='สุภัทธา',surname='ทิ้งไทยสงค์',ID=6130210262)"
      ],
      "execution_count": null,
      "outputs": [
        {
          "output_type": "stream",
          "text": [
            "ชื่อ สุภัทธา นามสกุล ทิ้งไทยสงค์ รหัส 6130210262\n"
          ],
          "name": "stdout"
        }
      ]
    },
    {
      "cell_type": "markdown",
      "metadata": {
        "id": "NyaElH4qbOPo"
      },
      "source": [
        "ในฟังก์ชันไม่จำเป็นต้องมี Input"
      ]
    },
    {
      "cell_type": "code",
      "metadata": {
        "id": "oa7n6fG0Zc0R"
      },
      "source": [
        "def Pi() :\r\n",
        "     return 3.14159265359"
      ],
      "execution_count": null,
      "outputs": []
    },
    {
      "cell_type": "markdown",
      "metadata": {
        "id": "0x92kRLmbZ3h"
      },
      "source": [
        "**สามารถกำหนดค่า default ให้กับฟังก์ชันได้**\r\n",
        "\r\n",
        "input ของ function ใน python มีสองแบบ input ที่จำเป็นต้องใส่ กับ input ที่ไม่จำเป็นต้องใส่ (มีค่า default)\r\n",
        "เราต้องเรียง input ที่จำเป็นต้องใส่ขึ้นก่อน"
      ]
    },
    {
      "cell_type": "code",
      "metadata": {
        "id": "rZWvam63ZZ48"
      },
      "source": [
        "def print_2lines_default(name,surname,ID,grade='A') :\r\n",
        "  st = f'ชื่อ {name} นามสกุล {surname} รหัส {ID}'\r\n",
        "  print (st)\r\n",
        "  st2=f'เกรดวิชา Data Viz >>> {grade}'\r\n",
        "  print(st2)"
      ],
      "execution_count": null,
      "outputs": []
    },
    {
      "cell_type": "code",
      "metadata": {
        "colab": {
          "base_uri": "https://localhost:8080/"
        },
        "id": "B5HbJ286ZZ1o",
        "outputId": "cb7468f6-04e2-4911-940a-ce9873e06e09"
      },
      "source": [
        "print_2lines_default('สุภัทธา','ทิ้งไทยสงค์','6130210262')"
      ],
      "execution_count": null,
      "outputs": [
        {
          "output_type": "stream",
          "text": [
            "ชื่อ สุภัทธา นามสกุล ทิ้งไทยสงค์ รหัส 6130210262\n",
            "เกรดวิชา Data Viz >>> A\n"
          ],
          "name": "stdout"
        }
      ]
    },
    {
      "cell_type": "code",
      "metadata": {
        "colab": {
          "base_uri": "https://localhost:8080/"
        },
        "id": "QtIaqeG7ZZzI",
        "outputId": "698ceb48-32ee-4eb2-b145-d8d6c33ade9c"
      },
      "source": [
        "print_2lines_default('สุภัทธา','ทิ้งไทยสงค์','6130210262','A')"
      ],
      "execution_count": null,
      "outputs": [
        {
          "output_type": "stream",
          "text": [
            "ชื่อ สุภัทธา นามสกุล ทิ้งไทยสงค์ รหัส 6130210262\n",
            "เกรดวิชา Data Viz >>> A\n"
          ],
          "name": "stdout"
        }
      ]
    },
    {
      "cell_type": "markdown",
      "metadata": {
        "id": "8e3CdtH3cw9h"
      },
      "source": [
        "#LOOP คือ การวนซ้ำ"
      ]
    },
    {
      "cell_type": "markdown",
      "metadata": {
        "id": "y_D6362Uc37F"
      },
      "source": [
        "for เป็นคำที่ใช้บอก python ว่ากำลังเขียน loop โดย for จะวนดึงสมาชิกจาก listA มาทำ process do_something"
      ]
    },
    {
      "cell_type": "markdown",
      "metadata": {
        "id": "dcNwQe67c8SQ"
      },
      "source": [
        "\r\n",
        "```\r\n",
        "for each_member in listA :\r\n",
        "        do_something\r\n",
        "```"
      ]
    },
    {
      "cell_type": "markdown",
      "metadata": {
        "id": "lTy33TQ3dAda"
      },
      "source": [
        "**คำสั่ง for เป็นคำสั่งวนซ้ำที่ใช้ควบคุมการทำงานซ้ำๆ ในจำนวนรอบที่แน่นอน**"
      ]
    },
    {
      "cell_type": "code",
      "metadata": {
        "colab": {
          "base_uri": "https://localhost:8080/"
        },
        "id": "nXdVxDEKZZxq",
        "outputId": "d02b45a5-1499-4078-ebfe-67b315ee9249"
      },
      "source": [
        "for i in [1,2,3] :\r\n",
        "    o = i**2\r\n",
        "    print (f'this member = {i} after process = {o}')"
      ],
      "execution_count": null,
      "outputs": [
        {
          "output_type": "stream",
          "text": [
            "this member = 1 after process = 1\n",
            "this member = 2 after process = 4\n",
            "this member = 3 after process = 9\n"
          ],
          "name": "stdout"
        }
      ]
    },
    {
      "cell_type": "markdown",
      "metadata": {
        "id": "UhfN1EbcV5t_"
      },
      "source": [
        "ตัวอย่างการใช้คำสั่ง for ในการวนซ้ำค่าของ"
      ]
    },
    {
      "cell_type": "code",
      "metadata": {
        "id": "Zh69ujR8ZZqe"
      },
      "source": [
        ""
      ],
      "execution_count": null,
      "outputs": []
    },
    {
      "cell_type": "code",
      "metadata": {
        "id": "GFlQVOkZVM7Q"
      },
      "source": [
        ""
      ],
      "execution_count": null,
      "outputs": []
    },
    {
      "cell_type": "code",
      "metadata": {
        "id": "_iT5xpP9VV5P",
        "colab": {
          "base_uri": "https://localhost:8080/"
        },
        "outputId": "0513ae06-3065-4b02-a7c5-bca75b0b4fb1"
      },
      "source": [
        "for i in 'Suphattha':\r\n",
        "  print(f'{i}->/',end='') #สั่งให้ print แบบ ไม่เว้นบรรทัด"
      ],
      "execution_count": null,
      "outputs": [
        {
          "output_type": "stream",
          "text": [
            "S->/u->/p->/h->/a->/t->/t->/h->/a->/"
          ],
          "name": "stdout"
        }
      ]
    },
    {
      "cell_type": "code",
      "metadata": {
        "id": "MrfwZePhVWPs",
        "colab": {
          "base_uri": "https://localhost:8080/"
        },
        "outputId": "b1f2f06d-463b-433f-f69e-499b68163359"
      },
      "source": [
        "for i in 'Suphattha':\r\n",
        "  print(f'{i}->/',end=',') #สั่งให้ แบบ ไม่เว้นบรรทัด"
      ],
      "execution_count": null,
      "outputs": [
        {
          "output_type": "stream",
          "text": [
            "S->/,u->/,p->/,h->/,a->/,t->/,t->/,h->/,a->/,"
          ],
          "name": "stdout"
        }
      ]
    },
    {
      "cell_type": "markdown",
      "metadata": {
        "id": "8wapsvgeYT6e"
      },
      "source": [
        "##สร้าง list ตัวเลขแบบอัตโนมัติ range()"
      ]
    },
    {
      "cell_type": "code",
      "metadata": {
        "id": "F6faw4j5VWyE",
        "colab": {
          "base_uri": "https://localhost:8080/"
        },
        "outputId": "49582685-f51f-4b31-8bef-101e824f92b0"
      },
      "source": [
        "range5_output = range(5)\r\n",
        "print(list(range5_output))"
      ],
      "execution_count": null,
      "outputs": [
        {
          "output_type": "stream",
          "text": [
            "[0, 1, 2, 3, 4]\n"
          ],
          "name": "stdout"
        }
      ]
    },
    {
      "cell_type": "code",
      "metadata": {
        "id": "lPq1nwAjVW8G",
        "colab": {
          "base_uri": "https://localhost:8080/"
        },
        "outputId": "c1e73399-2b15-4306-cdb0-7337765c0b49"
      },
      "source": [
        "for i in range(100):\r\n",
        "  print('งง',end=' ')"
      ],
      "execution_count": null,
      "outputs": [
        {
          "output_type": "stream",
          "text": [
            "งง งง งง งง งง งง งง งง งง งง งง งง งง งง งง งง งง งง งง งง งง งง งง งง งง งง งง งง งง งง งง งง งง งง งง งง งง งง งง งง งง งง งง งง งง งง งง งง งง งง งง งง งง งง งง งง งง งง งง งง งง งง งง งง งง งง งง งง งง งง งง งง งง งง งง งง งง งง งง งง งง งง งง งง งง งง งง งง งง งง งง งง งง งง งง งง งง งง งง งง "
          ],
          "name": "stdout"
        }
      ]
    },
    {
      "cell_type": "code",
      "metadata": {
        "id": "CQF-nN7SZZn7",
        "colab": {
          "base_uri": "https://localhost:8080/"
        },
        "outputId": "cb7070eb-09d4-425f-f6d2-d6383d11cdf3"
      },
      "source": [
        "list(range(1,11)) #เริ่มต้นเป็นวงเล็บ จบเป็นวงกลมโปร่ง เหมือน list slicing"
      ],
      "execution_count": null,
      "outputs": [
        {
          "output_type": "execute_result",
          "data": {
            "text/plain": [
              "[1, 2, 3, 4, 5, 6, 7, 8, 9, 10]"
            ]
          },
          "metadata": {
            "tags": []
          },
          "execution_count": 12
        }
      ]
    },
    {
      "cell_type": "code",
      "metadata": {
        "id": "q1oOxhloZZt8",
        "colab": {
          "base_uri": "https://localhost:8080/"
        },
        "outputId": "8116b8b7-a751-4057-e237-64b1b1970b0b"
      },
      "source": [
        "list(range(-3,20,4))"
      ],
      "execution_count": null,
      "outputs": [
        {
          "output_type": "execute_result",
          "data": {
            "text/plain": [
              "[-3, 1, 5, 9, 13, 17]"
            ]
          },
          "metadata": {
            "tags": []
          },
          "execution_count": 13
        }
      ]
    },
    {
      "cell_type": "markdown",
      "metadata": {
        "id": "gApip8Ywc9yp"
      },
      "source": [
        "## loop in loop\r\n",
        "สามารถใช้ for loop ซ้อนกันสอบรอบได้"
      ]
    },
    {
      "cell_type": "code",
      "metadata": {
        "id": "AtA0gqO8ZZlv"
      },
      "source": [
        ""
      ],
      "execution_count": null,
      "outputs": []
    },
    {
      "cell_type": "code",
      "metadata": {
        "id": "gox0VqXRZZjT",
        "colab": {
          "base_uri": "https://localhost:8080/"
        },
        "outputId": "0b93770c-431e-4f55-e52b-565c77533939"
      },
      "source": [
        "for name1 in range(2,5): #(2,3,4)\r\n",
        "    print(f'now name1={name1}')\r\n",
        "  for name2 in range(1,13):\r\n",
        "    print(name1,'x',name2,'=',name1*name2)"
      ],
      "execution_count": null,
      "outputs": [
        {
          "output_type": "stream",
          "text": [
            "2 x 1 = 2\n",
            "2 x 2 = 4\n",
            "2 x 3 = 6\n",
            "2 x 4 = 8\n",
            "2 x 5 = 10\n",
            "2 x 6 = 12\n",
            "2 x 7 = 14\n",
            "2 x 8 = 16\n",
            "2 x 9 = 18\n",
            "2 x 10 = 20\n",
            "2 x 11 = 22\n",
            "2 x 12 = 24\n",
            "3 x 1 = 3\n",
            "3 x 2 = 6\n",
            "3 x 3 = 9\n",
            "3 x 4 = 12\n",
            "3 x 5 = 15\n",
            "3 x 6 = 18\n",
            "3 x 7 = 21\n",
            "3 x 8 = 24\n",
            "3 x 9 = 27\n",
            "3 x 10 = 30\n",
            "3 x 11 = 33\n",
            "3 x 12 = 36\n",
            "4 x 1 = 4\n",
            "4 x 2 = 8\n",
            "4 x 3 = 12\n",
            "4 x 4 = 16\n",
            "4 x 5 = 20\n",
            "4 x 6 = 24\n",
            "4 x 7 = 28\n",
            "4 x 8 = 32\n",
            "4 x 9 = 36\n",
            "4 x 10 = 40\n",
            "4 x 11 = 44\n",
            "4 x 12 = 48\n"
          ],
          "name": "stdout"
        }
      ]
    },
    {
      "cell_type": "markdown",
      "metadata": {
        "id": "Kjt5Cf2YfLI-"
      },
      "source": [
        "##loop in function\r\n",
        "การวนลูปในฟังก์ชั่น"
      ]
    },
    {
      "cell_type": "code",
      "metadata": {
        "id": "EcOEzyCugrrp"
      },
      "source": [
        ""
      ],
      "execution_count": null,
      "outputs": []
    },
    {
      "cell_type": "code",
      "metadata": {
        "id": "F-eAI0f8fGW_"
      },
      "source": [
        "def print_feelings(I,friends,feeling='คิดถึง'):\r\n",
        "   for friend in friends:\r\n",
        "     print(f'{I}{feeling}{friend}')"
      ],
      "execution_count": null,
      "outputs": []
    },
    {
      "cell_type": "code",
      "metadata": {
        "id": "e0DejhBNfGfZ"
      },
      "source": [
        "list_friends=['หวาน','เตย','แบม','นิว','ปอ','ออม']"
      ],
      "execution_count": null,
      "outputs": []
    },
    {
      "cell_type": "code",
      "metadata": {
        "id": "ZyoQ6hmBfHa8",
        "colab": {
          "base_uri": "https://localhost:8080/"
        },
        "outputId": "a378a7c5-d650-497d-915f-d9a7829dc5a0"
      },
      "source": [
        "print_feelings('ออมสิน',list_friends)"
      ],
      "execution_count": null,
      "outputs": [
        {
          "output_type": "stream",
          "text": [
            "ออมสินคิดถึงหวาน\n",
            "ออมสินคิดถึงเตย\n",
            "ออมสินคิดถึงแบม\n",
            "ออมสินคิดถึงนิว\n",
            "ออมสินคิดถึงปอ\n",
            "ออมสินคิดถึงออม\n"
          ],
          "name": "stdout"
        }
      ]
    },
    {
      "cell_type": "code",
      "metadata": {
        "id": "RPx0GgSAfHiO"
      },
      "source": [
        ""
      ],
      "execution_count": null,
      "outputs": []
    },
    {
      "cell_type": "markdown",
      "metadata": {
        "id": "f2es-8FNj7TX"
      },
      "source": [
        "##conditional คือ เงื่อนไข/ประโยคเงื่อนไข"
      ]
    },
    {
      "cell_type": "markdown",
      "metadata": {
        "id": "2gOKRTmCkOTi"
      },
      "source": [
        "##True/False\r\n",
        "การวนลูปโดยมีเงื่อนไขต่างๆมาเกี่ยวข้อง โดยมี pattern ดังนี้"
      ]
    },
    {
      "cell_type": "code",
      "metadata": {
        "id": "MAtA9k_JfHpQ",
        "colab": {
          "base_uri": "https://localhost:8080/"
        },
        "outputId": "99735cd8-a572-4807-911b-a06ba819b959"
      },
      "source": [
        "for name1 in list_friends:\r\n",
        "  for name2 in list_friends:\r\n",
        "    if name1 !=name2:#ไม่ปริ้นชื่อคนเดียวกันซ้ำ\r\n",
        "       print(name1,'รัก',name2)"
      ],
      "execution_count": null,
      "outputs": [
        {
          "output_type": "stream",
          "text": [
            "หวาน รัก เตย\n",
            "หวาน รัก แบม\n",
            "หวาน รัก นิว\n",
            "หวาน รัก ปอ\n",
            "หวาน รัก ออม\n",
            "เตย รัก หวาน\n",
            "เตย รัก แบม\n",
            "เตย รัก นิว\n",
            "เตย รัก ปอ\n",
            "เตย รัก ออม\n",
            "แบม รัก หวาน\n",
            "แบม รัก เตย\n",
            "แบม รัก นิว\n",
            "แบม รัก ปอ\n",
            "แบม รัก ออม\n",
            "นิว รัก หวาน\n",
            "นิว รัก เตย\n",
            "นิว รัก แบม\n",
            "นิว รัก ปอ\n",
            "นิว รัก ออม\n",
            "ปอ รัก หวาน\n",
            "ปอ รัก เตย\n",
            "ปอ รัก แบม\n",
            "ปอ รัก นิว\n",
            "ปอ รัก ออม\n",
            "ออม รัก หวาน\n",
            "ออม รัก เตย\n",
            "ออม รัก แบม\n",
            "ออม รัก นิว\n",
            "ออม รัก ปอ\n"
          ],
          "name": "stdout"
        }
      ]
    },
    {
      "cell_type": "code",
      "metadata": {
        "id": "cce7NU4dj9NP"
      },
      "source": [
        ""
      ],
      "execution_count": null,
      "outputs": []
    },
    {
      "cell_type": "markdown",
      "metadata": {
        "id": "cIR9UWIToAU3"
      },
      "source": [
        "##HW\r\n",
        "เขียน function ตัดเกรด โดยที่ input เป็นคะแนน(0-100),output เป็นเกรด (F-A)\r\n",
        "วนลูปตัดเกรด input=[1,50,65,90,101,-5,49]"
      ]
    },
    {
      "cell_type": "markdown",
      "metadata": {
        "id": "92RUNYkRo5ja"
      },
      "source": [
        "\r\n",
        "\r\n",
        "\r\n",
        "\r\n",
        "---\r\n",
        "\r\n",
        "\r\n",
        "\r\n",
        "กำหนด\r\n",
        "ถ้าคะแนนอยู่ระหว่างมากกว่าหรือเท่ากับ 0 แต่น้อยกว่า 50 จะได้เกรด F\r\n",
        "\r\n",
        "ถ้าคะแนนอยู่ระหว่างมากกว่าหรือเท่ากับ 50 แต่น้อยกว่า 55 จะได้เกรด D\r\n",
        "\r\n",
        "ถ้าคะแนนอยู่ระหว่างมากกว่าหรือเท่ากับ 55 แต่น้อยกว่า 60 จะได้เกรด D+\r\n",
        "\r\n",
        "ถ้าคะแนนอยู่ระหว่างมากกว่าหรือเท่ากับ 60 แต่น้อยกว่า 65 จะได้เกรด C\r\n",
        "\r\n",
        "ถ้าคะแนนอยู่ระหว่างมากกว่าหรือเท่ากับ 65 แต่น้อยกว่า 70 จะได้เกรด C+\r\n",
        "\r\n",
        "ถ้าคะแนนอยู่ระหว่างมากกว่าหรือเท่ากับ 70 แต่น้อยกว่า 75 จะได้เกรด B\r\n",
        "\r\n",
        "ถ้าคะแนนอยู่ระหว่างมากกว่าหรือเท่ากับ 75 แต่น้อยกว่า 80 จะได้เกรด B+\r\n",
        "\r\n",
        "ถ้าคะแนนอยู่ระหว่างมากกว่าหรือเท่ากับ 80 จะได้เกรด A\r\n",
        "\r\n",
        "แต่ว่าค่าคะแนนจะต้องไม่ต่ำกว่า 0 และมากกว่า100ไม่งั้นจะเกิด Error\r\n",
        "\r\n",
        "\r\n",
        "---\r\n",
        "\r\n"
      ]
    },
    {
      "cell_type": "code",
      "metadata": {
        "id": "pEcwMnK8j-zX"
      },
      "source": [
        "def GPA(score) :\r\n",
        "    if score > 100 :\r\n",
        "       print(f'Error')\r\n",
        "    elif 80 <= score < 101 :\r\n",
        "       print(f'คะแนนที่ได้คือ {score} เกรดที่ได้คือ A')\r\n",
        "    elif 75 <= score < 80  :\r\n",
        "       print(f'คะแนนที่ได้คือ {score} เกรดที่ได้คือ B+')\r\n",
        "    elif 70 <= score < 75  :\r\n",
        "       print(f'คะแนนที่ได้คือ {score} เกรดที่ได้คือ B')\r\n",
        "    elif 65 <= score < 70 :\r\n",
        "       print(f'คะแนนที่ได้คือ {score} เกรดที่ได้คือ C+')\r\n",
        "    elif 60 <= score < 65 :\r\n",
        "       print(f'คะแนนที่ได้คือ {score} เกรดที่ได้คือ C')\r\n",
        "    elif 55 <= score < 60 :\r\n",
        "       print(f'คะแนนที่ได้คือ {score} เกรดที่ได้คือ D+')\r\n",
        "    elif 50 <= score < 55 :\r\n",
        "       print(f'คะแนนที่ได้คือ {score} เกรดที่ได้คือ D')\r\n",
        "    elif 0 <= score < 50 :\r\n",
        "       print(f'คะแนนที่ได้คือ {score} เกรดที่ได้คือ F')\r\n",
        "    elif score < 0 :\r\n",
        "       print(f'Error')"
      ],
      "execution_count": 5,
      "outputs": []
    },
    {
      "cell_type": "code",
      "metadata": {
        "id": "xYXvkSYCj-_Q",
        "outputId": "8c2fd263-0605-4fe9-9740-5c5ab3b27f4c",
        "colab": {
          "base_uri": "https://localhost:8080/"
        }
      },
      "source": [
        "list_gpa = [1,50,65,90,101,-5,49]\r\n",
        "list_gpa"
      ],
      "execution_count": 6,
      "outputs": [
        {
          "output_type": "execute_result",
          "data": {
            "text/plain": [
              "[1, 50, 65, 90, 101, -5, 49]"
            ]
          },
          "metadata": {
            "tags": []
          },
          "execution_count": 6
        }
      ]
    },
    {
      "cell_type": "code",
      "metadata": {
        "id": "9ELNabVTP087",
        "outputId": "050d2d32-0d2d-43ba-926c-04437face2bc",
        "colab": {
          "base_uri": "https://localhost:8080/"
        }
      },
      "source": [
        "for i in list_gpa :\r\n",
        "    GPA(i)"
      ],
      "execution_count": 7,
      "outputs": [
        {
          "output_type": "stream",
          "text": [
            "คะแนนที่ได้คือ 1 เกรดที่ได้คือ F\n",
            "คะแนนที่ได้คือ 50 เกรดที่ได้คือ D\n",
            "คะแนนที่ได้คือ 65 เกรดที่ได้คือ C+\n",
            "คะแนนที่ได้คือ 90 เกรดที่ได้คือ A\n",
            "Error\n",
            "Error\n",
            "คะแนนที่ได้คือ 49 เกรดที่ได้คือ F\n"
          ],
          "name": "stdout"
        }
      ]
    }
  ]
}