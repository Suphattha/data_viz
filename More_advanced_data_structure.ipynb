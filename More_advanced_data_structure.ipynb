{
  "nbformat": 4,
  "nbformat_minor": 0,
  "metadata": {
    "colab": {
      "name": "More advanced data structure.ipynb",
      "provenance": [],
      "include_colab_link": true
    },
    "kernelspec": {
      "name": "python3",
      "display_name": "Python 3"
    }
  },
  "cells": [
    {
      "cell_type": "markdown",
      "metadata": {
        "id": "view-in-github",
        "colab_type": "text"
      },
      "source": [
        "<a href=\"https://colab.research.google.com/github/Suphattha/data_viz/blob/main/More_advanced_data_structure.ipynb\" target=\"_parent\"><img src=\"https://colab.research.google.com/assets/colab-badge.svg\" alt=\"Open In Colab\"/></a>"
      ]
    },
    {
      "cell_type": "markdown",
      "metadata": {
        "id": "ZebjfVbpR-Am"
      },
      "source": [
        "##list หน้าตาประมาณนี้\r\n",
        "list ดีกว่า array เพราะ list สามารถเก็บได้หลายอย่าง ทำได้ทั้ง str และ number"
      ]
    },
    {
      "cell_type": "markdown",
      "metadata": {
        "id": "Kvakcc14TWiQ"
      },
      "source": [
        "##Dictionary\r\n",
        "สามารถ index ด้วยอะไรก็ได้ แต่ลำดับจะหายไป"
      ]
    },
    {
      "cell_type": "code",
      "metadata": {
        "id": "wb8L_K_QRaSv"
      },
      "source": [
        "ex_dict = {'a':10,'1':1, 'stat':5} #curly brackets ในการบอกว่าเป็น dict"
      ],
      "execution_count": 1,
      "outputs": []
    },
    {
      "cell_type": "code",
      "metadata": {
        "colab": {
          "base_uri": "https://localhost:8080/"
        },
        "id": "-dBBik6_RaXh",
        "outputId": "391538c0-4a62-430f-8c2d-390e6e4078e2"
      },
      "source": [
        "ex_dict['stat']"
      ],
      "execution_count": 2,
      "outputs": [
        {
          "output_type": "execute_result",
          "data": {
            "text/plain": [
              "5"
            ]
          },
          "metadata": {
            "tags": []
          },
          "execution_count": 2
        }
      ]
    },
    {
      "cell_type": "code",
      "metadata": {
        "id": "QsOa3ugcTkmq"
      },
      "source": [
        "ex2_dict = {1:'one', 2:'two', 3:'three'}"
      ],
      "execution_count": 3,
      "outputs": []
    },
    {
      "cell_type": "code",
      "metadata": {
        "colab": {
          "base_uri": "https://localhost:8080/",
          "height": 34
        },
        "id": "lkm20-dITku4",
        "outputId": "165cc27e-493f-435a-868e-be17ee5bedb4"
      },
      "source": [
        "ex2_dict[2]"
      ],
      "execution_count": 4,
      "outputs": [
        {
          "output_type": "execute_result",
          "data": {
            "application/vnd.google.colaboratory.intrinsic+json": {
              "type": "string"
            },
            "text/plain": [
              "'two'"
            ]
          },
          "metadata": {
            "tags": []
          },
          "execution_count": 4
        }
      ]
    },
    {
      "cell_type": "markdown",
      "metadata": {
        "id": "ZgyBJ6xyT_BK"
      },
      "source": [
        "##การเพิ่มสมาชิก"
      ]
    },
    {
      "cell_type": "code",
      "metadata": {
        "id": "5lQHclXfTk06"
      },
      "source": [
        "ex2_dict[0] = 'zero'"
      ],
      "execution_count": 5,
      "outputs": []
    },
    {
      "cell_type": "code",
      "metadata": {
        "colab": {
          "base_uri": "https://localhost:8080/"
        },
        "id": "XRKqH8DmTk7c",
        "outputId": "fefa6a49-c134-4dc7-fb6b-f71ce5cbdf59"
      },
      "source": [
        "ex2_dict"
      ],
      "execution_count": 6,
      "outputs": [
        {
          "output_type": "execute_result",
          "data": {
            "text/plain": [
              "{0: 'zero', 1: 'one', 2: 'two', 3: 'three'}"
            ]
          },
          "metadata": {
            "tags": []
          },
          "execution_count": 6
        }
      ]
    },
    {
      "cell_type": "markdown",
      "metadata": {
        "id": "Zy81_aKFUcoY"
      },
      "source": [
        "\r\n",
        "คำสั่ง\r\n",
        ".keys() ดูว่ามีindexอะไรบ้าง\r\n",
        ".values() ดูค่าของมัน"
      ]
    },
    {
      "cell_type": "code",
      "metadata": {
        "colab": {
          "base_uri": "https://localhost:8080/"
        },
        "id": "PEKZkV-0ThEG",
        "outputId": "6b2040dc-72a9-4827-88dd-df061222db6e"
      },
      "source": [
        "ex2_dict.keys()"
      ],
      "execution_count": 7,
      "outputs": [
        {
          "output_type": "execute_result",
          "data": {
            "text/plain": [
              "dict_keys([1, 2, 3, 0])"
            ]
          },
          "metadata": {
            "tags": []
          },
          "execution_count": 7
        }
      ]
    },
    {
      "cell_type": "code",
      "metadata": {
        "colab": {
          "base_uri": "https://localhost:8080/"
        },
        "id": "XbG_8n_8ThKB",
        "outputId": "a560d7a7-bf7e-4974-c904-00ccaeb07204"
      },
      "source": [
        "for index in ex2_dict.keys() :\r\n",
        "    print(index)"
      ],
      "execution_count": 8,
      "outputs": [
        {
          "output_type": "stream",
          "text": [
            "1\n",
            "2\n",
            "3\n",
            "0\n"
          ],
          "name": "stdout"
        }
      ]
    },
    {
      "cell_type": "code",
      "metadata": {
        "colab": {
          "base_uri": "https://localhost:8080/"
        },
        "id": "DZtNoTtWTiTe",
        "outputId": "f27012d2-800a-4113-d8a7-205a8317049d"
      },
      "source": [
        "ex2_dict.values()"
      ],
      "execution_count": 9,
      "outputs": [
        {
          "output_type": "execute_result",
          "data": {
            "text/plain": [
              "dict_values(['one', 'two', 'three', 'zero'])"
            ]
          },
          "metadata": {
            "tags": []
          },
          "execution_count": 9
        }
      ]
    },
    {
      "cell_type": "code",
      "metadata": {
        "colab": {
          "base_uri": "https://localhost:8080/"
        },
        "id": "tAkmmbDQTibr",
        "outputId": "a7f1ae4a-752a-4a7d-a8fd-11316f2009b1"
      },
      "source": [
        "index"
      ],
      "execution_count": 10,
      "outputs": [
        {
          "output_type": "execute_result",
          "data": {
            "text/plain": [
              "0"
            ]
          },
          "metadata": {
            "tags": []
          },
          "execution_count": 10
        }
      ]
    },
    {
      "cell_type": "markdown",
      "metadata": {
        "id": "wn_QMBgFU8mG"
      },
      "source": [
        "dict เอาไปใช้ร่วมกับ dataframe ของ pandas\r\n",
        "Numpy array (array n มิติ)\r\n",
        "numpy คือ packege ที่ทำงานเกี่ยวกับ array ของตัวเลข(ที่มีคนเขียนขึ้นมาและนิยมใช้ )\r\n",
        "numpy -> number python"
      ]
    },
    {
      "cell_type": "code",
      "metadata": {
        "id": "eAzfldJERaaO"
      },
      "source": [
        "import numpy #วิธีเรียกใช้งาน package"
      ],
      "execution_count": 11,
      "outputs": []
    },
    {
      "cell_type": "code",
      "metadata": {
        "id": "Z43np3AHRah6"
      },
      "source": [
        "import numpy as np"
      ],
      "execution_count": 12,
      "outputs": []
    },
    {
      "cell_type": "markdown",
      "metadata": {
        "id": "_759SuKxVi8m"
      },
      "source": [
        "สร้าง numpy array"
      ]
    },
    {
      "cell_type": "code",
      "metadata": {
        "colab": {
          "base_uri": "https://localhost:8080/"
        },
        "id": "uLq2kbMJVVBn",
        "outputId": "666d9317-6546-40d2-b3e1-567229bc6e3e"
      },
      "source": [
        "ex_2d_array = numpy.array([[5.2,3.0,4.5],[9.1,0.1,0.3]])\r\n",
        "print(ex_2d_array)"
      ],
      "execution_count": 13,
      "outputs": [
        {
          "output_type": "stream",
          "text": [
            "[[5.2 3.  4.5]\n",
            " [9.1 0.1 0.3]]\n"
          ],
          "name": "stdout"
        }
      ]
    },
    {
      "cell_type": "markdown",
      "metadata": {
        "id": "6n_hmxn_VwjI"
      },
      "source": [
        "\r\n",
        "การชี้ค่าใน array"
      ]
    },
    {
      "cell_type": "code",
      "metadata": {
        "colab": {
          "base_uri": "https://localhost:8080/"
        },
        "id": "4mgUnT2GVVMX",
        "outputId": "99a0425b-850b-4747-dfa9-3161ffa8c3d0"
      },
      "source": [
        "ex_2d_array[1,2]"
      ],
      "execution_count": 14,
      "outputs": [
        {
          "output_type": "execute_result",
          "data": {
            "text/plain": [
              "0.3"
            ]
          },
          "metadata": {
            "tags": []
          },
          "execution_count": 14
        }
      ]
    },
    {
      "cell_type": "code",
      "metadata": {
        "colab": {
          "base_uri": "https://localhost:8080/"
        },
        "id": "M1NO1vJ-VVQw",
        "outputId": "ef8c5795-135d-4ce0-b6a0-db3927f16b5b"
      },
      "source": [
        "list_x = [[5.2,3.0,4.5],[9.1,0.1,0.3]] #การชี้ list\r\n",
        "len(list_x)"
      ],
      "execution_count": 15,
      "outputs": [
        {
          "output_type": "execute_result",
          "data": {
            "text/plain": [
              "2"
            ]
          },
          "metadata": {
            "tags": []
          },
          "execution_count": 15
        }
      ]
    },
    {
      "cell_type": "code",
      "metadata": {
        "colab": {
          "base_uri": "https://localhost:8080/"
        },
        "id": "l2ot3JDtVVZ_",
        "outputId": "70891110-ef61-46e6-cd7a-bd209c5a36e0"
      },
      "source": [
        "list_x[1][2]"
      ],
      "execution_count": 16,
      "outputs": [
        {
          "output_type": "execute_result",
          "data": {
            "text/plain": [
              "0.3"
            ]
          },
          "metadata": {
            "tags": []
          },
          "execution_count": 16
        }
      ]
    },
    {
      "cell_type": "markdown",
      "metadata": {
        "id": "wEp7yn8lV_ws"
      },
      "source": [
        "operations"
      ]
    },
    {
      "cell_type": "code",
      "metadata": {
        "colab": {
          "base_uri": "https://localhost:8080/"
        },
        "id": "8WRQlB68VVhJ",
        "outputId": "bc30ae26-1dee-438e-b10f-da379c61d1b7"
      },
      "source": [
        "ex2_2d_array = np.array([[1,0,0],[0,0,1]])\r\n",
        "print(ex2_2d_array)\r\n",
        "print(ex_2d_array)"
      ],
      "execution_count": 17,
      "outputs": [
        {
          "output_type": "stream",
          "text": [
            "[[1 0 0]\n",
            " [0 0 1]]\n",
            "[[5.2 3.  4.5]\n",
            " [9.1 0.1 0.3]]\n"
          ],
          "name": "stdout"
        }
      ]
    },
    {
      "cell_type": "code",
      "metadata": {
        "colab": {
          "base_uri": "https://localhost:8080/"
        },
        "id": "D5_Dt_-lVVln",
        "outputId": "f9835616-7125-4758-dab4-a76efe11dd84"
      },
      "source": [
        "ex_2d_array.shape #.shape ตรวจขนาดของ matrix"
      ],
      "execution_count": 18,
      "outputs": [
        {
          "output_type": "execute_result",
          "data": {
            "text/plain": [
              "(2, 3)"
            ]
          },
          "metadata": {
            "tags": []
          },
          "execution_count": 18
        }
      ]
    },
    {
      "cell_type": "code",
      "metadata": {
        "colab": {
          "base_uri": "https://localhost:8080/"
        },
        "id": "Cjw1ep3IVV4L",
        "outputId": "b593832d-b821-44ab-cb8b-58f9008ee36c"
      },
      "source": [
        "ex2_2d_array + ex_2d_array"
      ],
      "execution_count": 19,
      "outputs": [
        {
          "output_type": "execute_result",
          "data": {
            "text/plain": [
              "array([[6.2, 3. , 4.5],\n",
              "       [9.1, 0.1, 1.3]])"
            ]
          },
          "metadata": {
            "tags": []
          },
          "execution_count": 19
        }
      ]
    },
    {
      "cell_type": "code",
      "metadata": {
        "colab": {
          "base_uri": "https://localhost:8080/"
        },
        "id": "1WhsclWKVWFL",
        "outputId": "4fd4a5c6-526e-4911-8b32-0575ad767056"
      },
      "source": [
        "list_x = [[5.2,3.0,4.5],[9.1,0.1,0.3]]\r\n",
        "list_x2 = [[1,0,0],[0,0,1]]\r\n",
        "list_x + list_x2"
      ],
      "execution_count": 20,
      "outputs": [
        {
          "output_type": "execute_result",
          "data": {
            "text/plain": [
              "[[5.2, 3.0, 4.5], [9.1, 0.1, 0.3], [1, 0, 0], [0, 0, 1]]"
            ]
          },
          "metadata": {
            "tags": []
          },
          "execution_count": 20
        }
      ]
    },
    {
      "cell_type": "code",
      "metadata": {
        "colab": {
          "base_uri": "https://localhost:8080/"
        },
        "id": "0466OpdoVWQd",
        "outputId": "fbb71cee-7337-4533-8ccb-2d0888caf17f"
      },
      "source": [
        "ex2_2d_array - ex_2d_array"
      ],
      "execution_count": 21,
      "outputs": [
        {
          "output_type": "execute_result",
          "data": {
            "text/plain": [
              "array([[-4.2, -3. , -4.5],\n",
              "       [-9.1, -0.1,  0.7]])"
            ]
          },
          "metadata": {
            "tags": []
          },
          "execution_count": 21
        }
      ]
    },
    {
      "cell_type": "code",
      "metadata": {
        "colab": {
          "base_uri": "https://localhost:8080/"
        },
        "id": "jw-a36dNVWeN",
        "outputId": "c899a503-a585-45ce-f8f3-dbe7fb2d302c"
      },
      "source": [
        "ex2_2d_array * ex_2d_array #การคูณแบบ array เอาตำแหน่งเดียวกันมาคูณกัน"
      ],
      "execution_count": 22,
      "outputs": [
        {
          "output_type": "execute_result",
          "data": {
            "text/plain": [
              "array([[5.2, 0. , 0. ],\n",
              "       [0. , 0. , 0.3]])"
            ]
          },
          "metadata": {
            "tags": []
          },
          "execution_count": 22
        }
      ]
    },
    {
      "cell_type": "markdown",
      "metadata": {
        "id": "OS_Gds82XNf3"
      },
      "source": [
        "matrix multiplication (dot product)"
      ]
    },
    {
      "cell_type": "code",
      "metadata": {
        "colab": {
          "base_uri": "https://localhost:8080/"
        },
        "id": "HHT19LdiRaoF",
        "outputId": "2d648b36-57f3-4982-9785-79bb5b4a14e5"
      },
      "source": [
        "print(ex_2d_array)\r\n",
        "print(ex_2d_array.T)"
      ],
      "execution_count": 23,
      "outputs": [
        {
          "output_type": "stream",
          "text": [
            "[[5.2 3.  4.5]\n",
            " [9.1 0.1 0.3]]\n",
            "[[5.2 9.1]\n",
            " [3.  0.1]\n",
            " [4.5 0.3]]\n"
          ],
          "name": "stdout"
        }
      ]
    },
    {
      "cell_type": "code",
      "metadata": {
        "colab": {
          "base_uri": "https://localhost:8080/"
        },
        "id": "uJnfyo5ORaut",
        "outputId": "3de3e364-1115-44b3-f573-cdb207e70f72"
      },
      "source": [
        "dot_mat = np.dot(ex2_2d_array,ex_2d_array.T)\r\n",
        "print(dot_mat)"
      ],
      "execution_count": 24,
      "outputs": [
        {
          "output_type": "stream",
          "text": [
            "[[5.2 9.1]\n",
            " [4.5 0.3]]\n"
          ],
          "name": "stdout"
        }
      ]
    },
    {
      "cell_type": "code",
      "metadata": {
        "colab": {
          "base_uri": "https://localhost:8080/"
        },
        "id": "G3f82AYdXYps",
        "outputId": "8789a504-48ab-4294-b65c-dc3dc4cccea8"
      },
      "source": [
        "np.linalg.det(dot_mat)"
      ],
      "execution_count": 25,
      "outputs": [
        {
          "output_type": "execute_result",
          "data": {
            "text/plain": [
              "-39.389999999999986"
            ]
          },
          "metadata": {
            "tags": []
          },
          "execution_count": 25
        }
      ]
    },
    {
      "cell_type": "markdown",
      "metadata": {
        "id": "ZJxIvz5NXg83"
      },
      "source": [
        "search google -> stackoverflow หรือ web ของ package สำหรับ operation อื่นๆ"
      ]
    },
    {
      "cell_type": "markdown",
      "metadata": {
        "id": "-wDmMpJRXmZk"
      },
      "source": [
        "##Matrix Slicing"
      ]
    },
    {
      "cell_type": "code",
      "metadata": {
        "colab": {
          "base_uri": "https://localhost:8080/"
        },
        "id": "jvW6hwYkXZV9",
        "outputId": "13662d1e-a90d-4f76-bbf5-e5fe268ada61"
      },
      "source": [
        "print(ex_2d_array)"
      ],
      "execution_count": 41,
      "outputs": [
        {
          "output_type": "stream",
          "text": [
            "[[5.2 3.  4.5]\n",
            " [9.1 0.1 0.3]]\n"
          ],
          "name": "stdout"
        }
      ]
    },
    {
      "cell_type": "code",
      "metadata": {
        "colab": {
          "base_uri": "https://localhost:8080/"
        },
        "id": "dUA6FGhjXZps",
        "outputId": "5f168ad0-6fe2-4311-bcfd-9ea6ad19cad7"
      },
      "source": [
        "ex_2d_array[1,1:]"
      ],
      "execution_count": 42,
      "outputs": [
        {
          "output_type": "execute_result",
          "data": {
            "text/plain": [
              "array([0.1, 0.3])"
            ]
          },
          "metadata": {
            "tags": []
          },
          "execution_count": 42
        }
      ]
    },
    {
      "cell_type": "code",
      "metadata": {
        "colab": {
          "base_uri": "https://localhost:8080/"
        },
        "id": "bBIh_wqgXaWJ",
        "outputId": "4e3d0583-80b8-4ba7-8939-e93bf57b7d5e"
      },
      "source": [
        "ex_2d_array[:,:2]"
      ],
      "execution_count": 43,
      "outputs": [
        {
          "output_type": "execute_result",
          "data": {
            "text/plain": [
              "array([[5.2, 3. ],\n",
              "       [9.1, 0.1]])"
            ]
          },
          "metadata": {
            "tags": []
          },
          "execution_count": 43
        }
      ]
    },
    {
      "cell_type": "markdown",
      "metadata": {
        "id": "0U6QVny2X8K9"
      },
      "source": [
        "HW5 เขียน Function คูณ matrix\r\n",
        "แล้ว test กับ matrix\r\n",
        "\r\n",
        "(2,3)*(3,2)\r\n",
        "\r\n",
        "(4,4)*(4,1)\r\n",
        "\r\n",
        "(2,2)*(2,2)\r\n"
      ]
    },
    {
      "cell_type": "code",
      "metadata": {
        "id": "pbwyrVzBXarh"
      },
      "source": [
        "import numpy as np"
      ],
      "execution_count": 44,
      "outputs": []
    },
    {
      "cell_type": "code",
      "metadata": {
        "id": "ypPL47iDZbHf",
        "colab": {
          "base_uri": "https://localhost:8080/"
        },
        "outputId": "e036d2bb-fabc-4b86-dd1a-2c6befee1a69"
      },
      "source": [
        "#Matrix 2*3\r\n",
        "mat_A = np.array([[1,4,2],[2,8,7]])\r\n",
        "mat_A"
      ],
      "execution_count": 45,
      "outputs": [
        {
          "output_type": "execute_result",
          "data": {
            "text/plain": [
              "array([[1, 4, 2],\n",
              "       [2, 8, 7]])"
            ]
          },
          "metadata": {
            "tags": []
          },
          "execution_count": 45
        }
      ]
    },
    {
      "cell_type": "code",
      "metadata": {
        "id": "XmqCJWsQZbSc",
        "outputId": "528a10be-6264-4bd8-a045-063cf115ae9f",
        "colab": {
          "base_uri": "https://localhost:8080/"
        }
      },
      "source": [
        "#Matrix 3*2\r\n",
        "mat_B = np.array([[4,2],[6,8],[2,1]])\r\n",
        "mat_B"
      ],
      "execution_count": 46,
      "outputs": [
        {
          "output_type": "execute_result",
          "data": {
            "text/plain": [
              "array([[4, 2],\n",
              "       [6, 8],\n",
              "       [2, 1]])"
            ]
          },
          "metadata": {
            "tags": []
          },
          "execution_count": 46
        }
      ]
    },
    {
      "cell_type": "code",
      "metadata": {
        "id": "yGjoPjgdZbbb",
        "outputId": "190f32b3-57c1-4cc0-f6e7-1dc4b3f8c3a0",
        "colab": {
          "base_uri": "https://localhost:8080/"
        }
      },
      "source": [
        "#Matrix 4*4\r\n",
        "mat_C = np.array([[1,5,4,3],[5,2,1,4],[9,6,2,4],[1,3,2,4]])\r\n",
        "mat_C"
      ],
      "execution_count": 47,
      "outputs": [
        {
          "output_type": "execute_result",
          "data": {
            "text/plain": [
              "array([[1, 5, 4, 3],\n",
              "       [5, 2, 1, 4],\n",
              "       [9, 6, 2, 4],\n",
              "       [1, 3, 2, 4]])"
            ]
          },
          "metadata": {
            "tags": []
          },
          "execution_count": 47
        }
      ]
    },
    {
      "cell_type": "code",
      "metadata": {
        "id": "PkLgeRF2Zbkm",
        "outputId": "691b84fe-3550-4872-c5d3-6dab84a00da9",
        "colab": {
          "base_uri": "https://localhost:8080/"
        }
      },
      "source": [
        "#Matrix 4*1\r\n",
        "mat_D = np.array([[1],[4],[5],[7]])\r\n",
        "mat_D"
      ],
      "execution_count": 48,
      "outputs": [
        {
          "output_type": "execute_result",
          "data": {
            "text/plain": [
              "array([[1],\n",
              "       [4],\n",
              "       [5],\n",
              "       [7]])"
            ]
          },
          "metadata": {
            "tags": []
          },
          "execution_count": 48
        }
      ]
    },
    {
      "cell_type": "code",
      "metadata": {
        "id": "IQZmW2HbXa3S",
        "outputId": "97971f36-7afa-4fc9-edb3-ccaf5899cd30",
        "colab": {
          "base_uri": "https://localhost:8080/"
        }
      },
      "source": [
        "#Matrix 2*2 \r\n",
        "mat_E = np.array([[5,1],[4,2]])\r\n",
        "mat_E"
      ],
      "execution_count": 49,
      "outputs": [
        {
          "output_type": "execute_result",
          "data": {
            "text/plain": [
              "array([[5, 1],\n",
              "       [4, 2]])"
            ]
          },
          "metadata": {
            "tags": []
          },
          "execution_count": 49
        }
      ]
    },
    {
      "cell_type": "code",
      "metadata": {
        "id": "LX2i-csQRbpt",
        "outputId": "e3d33a9c-2efa-430d-8ccd-f7b5f5123b5b",
        "colab": {
          "base_uri": "https://localhost:8080/"
        }
      },
      "source": [
        "mat_F = np.array([[1,8],[7,3]])\r\n",
        "mat_F"
      ],
      "execution_count": 50,
      "outputs": [
        {
          "output_type": "execute_result",
          "data": {
            "text/plain": [
              "array([[1, 8],\n",
              "       [7, 3]])"
            ]
          },
          "metadata": {
            "tags": []
          },
          "execution_count": 50
        }
      ]
    },
    {
      "cell_type": "markdown",
      "metadata": {
        "id": "o_Y4ZYbLaSbE"
      },
      "source": [
        "##Create Function Multiply Matrix"
      ]
    },
    {
      "cell_type": "code",
      "metadata": {
        "id": "KfTlvDI7Rbsz"
      },
      "source": [
        "def mul_mat(A, B):\r\n",
        "    C = [[0 for row in range(len(B[0]))] for col in range(len(A))]\r\n",
        "    for i in range(len(A)):\r\n",
        "        for j in range(len(B[0])):\r\n",
        "            for k in range(len(B)):\r\n",
        "                C[i][j] += A[i][k]*B[k][j]\r\n",
        "    r = np.matrix(C)\r\n",
        "    return r"
      ],
      "execution_count": 36,
      "outputs": []
    },
    {
      "cell_type": "code",
      "metadata": {
        "id": "NWe576VqaYfU",
        "colab": {
          "base_uri": "https://localhost:8080/"
        },
        "outputId": "be29c705-317a-432c-dd3b-d71fb9f8965b"
      },
      "source": [
        "mul_mat(mat_A,mat_B)"
      ],
      "execution_count": 37,
      "outputs": [
        {
          "output_type": "execute_result",
          "data": {
            "text/plain": [
              "matrix([[32, 36],\n",
              "        [70, 75]])"
            ]
          },
          "metadata": {
            "tags": []
          },
          "execution_count": 37
        }
      ]
    },
    {
      "cell_type": "code",
      "metadata": {
        "id": "enabEpa1aZD_",
        "colab": {
          "base_uri": "https://localhost:8080/"
        },
        "outputId": "0bf7035b-d10d-4fbd-ed47-dcd4b81ca70a"
      },
      "source": [
        "mul_mat(mat_C,mat_D)"
      ],
      "execution_count": 38,
      "outputs": [
        {
          "output_type": "execute_result",
          "data": {
            "text/plain": [
              "matrix([[62],\n",
              "        [46],\n",
              "        [71],\n",
              "        [51]])"
            ]
          },
          "metadata": {
            "tags": []
          },
          "execution_count": 38
        }
      ]
    },
    {
      "cell_type": "code",
      "metadata": {
        "id": "rWeRyySIaZMH",
        "colab": {
          "base_uri": "https://localhost:8080/"
        },
        "outputId": "11cf4049-d12f-44a2-fcb8-63e3aadfb8bb"
      },
      "source": [
        "mul_mat(mat_E,mat_F)"
      ],
      "execution_count": 39,
      "outputs": [
        {
          "output_type": "execute_result",
          "data": {
            "text/plain": [
              "matrix([[12, 43],\n",
              "        [18, 38]])"
            ]
          },
          "metadata": {
            "tags": []
          },
          "execution_count": 39
        }
      ]
    },
    {
      "cell_type": "markdown",
      "metadata": {
        "id": "CkF75lSHawuO"
      },
      "source": [
        "##ตรวจสอบความถูกต้อง"
      ]
    },
    {
      "cell_type": "code",
      "metadata": {
        "id": "7Bh5PPsaaZU3",
        "colab": {
          "base_uri": "https://localhost:8080/"
        },
        "outputId": "a11cda11-d467-4ddc-c126-e6fcf4cb41da"
      },
      "source": [
        "np.dot(mat_A,mat_B)"
      ],
      "execution_count": 40,
      "outputs": [
        {
          "output_type": "execute_result",
          "data": {
            "text/plain": [
              "array([[32, 36],\n",
              "       [70, 75]])"
            ]
          },
          "metadata": {
            "tags": []
          },
          "execution_count": 40
        }
      ]
    }
  ]
}