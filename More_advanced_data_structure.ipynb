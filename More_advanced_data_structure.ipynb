{
  "nbformat": 4,
  "nbformat_minor": 0,
  "metadata": {
    "colab": {
      "name": "More advanced data structure.ipynb",
      "provenance": [],
      "include_colab_link": true
    },
    "kernelspec": {
      "name": "python3",
      "display_name": "Python 3"
    }
  },
  "cells": [
    {
      "cell_type": "markdown",
      "metadata": {
        "id": "view-in-github",
        "colab_type": "text"
      },
      "source": [
        "<a href=\"https://colab.research.google.com/github/Suphattha/data_viz/blob/main/More_advanced_data_structure.ipynb\" target=\"_parent\"><img src=\"https://colab.research.google.com/assets/colab-badge.svg\" alt=\"Open In Colab\"/></a>"
      ]
    },
    {
      "cell_type": "markdown",
      "metadata": {
        "id": "ZebjfVbpR-Am"
      },
      "source": [
        "##list หน้าตาประมาณนี้\r\n",
        "list ดีกว่า array เพราะ list สามารถเก็บได้หลายอย่าง ทำได้ทั้ง str และ number"
      ]
    },
    {
      "cell_type": "markdown",
      "metadata": {
        "id": "Kvakcc14TWiQ"
      },
      "source": [
        "##Dictionary\r\n",
        "สามารถ index ด้วยอะไรก็ได้ แต่ลำดับจะหายไป"
      ]
    },
    {
      "cell_type": "code",
      "metadata": {
        "id": "wb8L_K_QRaSv"
      },
      "source": [
        "ex_dict = {'a':10,'1':1, 'stat':5} #curly brackets ในการบอกว่าเป็น dict"
      ],
      "execution_count": 68,
      "outputs": []
    },
    {
      "cell_type": "code",
      "metadata": {
        "colab": {
          "base_uri": "https://localhost:8080/"
        },
        "id": "-dBBik6_RaXh",
        "outputId": "9c7c8270-5d9b-4f9b-90bc-552894bb9554"
      },
      "source": [
        "ex_dict['stat']"
      ],
      "execution_count": 69,
      "outputs": [
        {
          "output_type": "execute_result",
          "data": {
            "text/plain": [
              "5"
            ]
          },
          "metadata": {
            "tags": []
          },
          "execution_count": 69
        }
      ]
    },
    {
      "cell_type": "code",
      "metadata": {
        "id": "QsOa3ugcTkmq"
      },
      "source": [
        "ex2_dict = {1:'one', 2:'two', 3:'three'}"
      ],
      "execution_count": 70,
      "outputs": []
    },
    {
      "cell_type": "code",
      "metadata": {
        "colab": {
          "base_uri": "https://localhost:8080/",
          "height": 34
        },
        "id": "lkm20-dITku4",
        "outputId": "947c56a4-91fc-47ec-9416-cbf227ed9a8f"
      },
      "source": [
        "ex2_dict[2]"
      ],
      "execution_count": 71,
      "outputs": [
        {
          "output_type": "execute_result",
          "data": {
            "application/vnd.google.colaboratory.intrinsic+json": {
              "type": "string"
            },
            "text/plain": [
              "'two'"
            ]
          },
          "metadata": {
            "tags": []
          },
          "execution_count": 71
        }
      ]
    },
    {
      "cell_type": "markdown",
      "metadata": {
        "id": "ZgyBJ6xyT_BK"
      },
      "source": [
        "##การเพิ่มสมาชิก"
      ]
    },
    {
      "cell_type": "code",
      "metadata": {
        "id": "5lQHclXfTk06"
      },
      "source": [
        "ex2_dict[0] = 'zero'"
      ],
      "execution_count": 72,
      "outputs": []
    },
    {
      "cell_type": "code",
      "metadata": {
        "colab": {
          "base_uri": "https://localhost:8080/"
        },
        "id": "XRKqH8DmTk7c",
        "outputId": "106f7424-414a-42f6-f50e-8e56e2fa00a1"
      },
      "source": [
        "ex2_dict"
      ],
      "execution_count": 73,
      "outputs": [
        {
          "output_type": "execute_result",
          "data": {
            "text/plain": [
              "{0: 'zero', 1: 'one', 2: 'two', 3: 'three'}"
            ]
          },
          "metadata": {
            "tags": []
          },
          "execution_count": 73
        }
      ]
    },
    {
      "cell_type": "markdown",
      "metadata": {
        "id": "Zy81_aKFUcoY"
      },
      "source": [
        "\r\n",
        "คำสั่ง\r\n",
        ".keys() ดูว่ามีindexอะไรบ้าง\r\n",
        ".values() ดูค่าของมัน"
      ]
    },
    {
      "cell_type": "code",
      "metadata": {
        "colab": {
          "base_uri": "https://localhost:8080/"
        },
        "id": "PEKZkV-0ThEG",
        "outputId": "363e7c71-56ff-4303-cb75-d9c58dee598b"
      },
      "source": [
        "ex2_dict.keys()"
      ],
      "execution_count": 74,
      "outputs": [
        {
          "output_type": "execute_result",
          "data": {
            "text/plain": [
              "dict_keys([1, 2, 3, 0])"
            ]
          },
          "metadata": {
            "tags": []
          },
          "execution_count": 74
        }
      ]
    },
    {
      "cell_type": "code",
      "metadata": {
        "colab": {
          "base_uri": "https://localhost:8080/"
        },
        "id": "XbG_8n_8ThKB",
        "outputId": "652e0f9b-d29b-4287-a743-15bad54f58a0"
      },
      "source": [
        "for index in ex2_dict.keys() :\r\n",
        "    print(index)"
      ],
      "execution_count": 75,
      "outputs": [
        {
          "output_type": "stream",
          "text": [
            "1\n",
            "2\n",
            "3\n",
            "0\n"
          ],
          "name": "stdout"
        }
      ]
    },
    {
      "cell_type": "code",
      "metadata": {
        "colab": {
          "base_uri": "https://localhost:8080/"
        },
        "id": "DZtNoTtWTiTe",
        "outputId": "37f2e150-08e6-4dc3-a40f-a718c2b6f5fc"
      },
      "source": [
        "ex2_dict.values()"
      ],
      "execution_count": 76,
      "outputs": [
        {
          "output_type": "execute_result",
          "data": {
            "text/plain": [
              "dict_values(['one', 'two', 'three', 'zero'])"
            ]
          },
          "metadata": {
            "tags": []
          },
          "execution_count": 76
        }
      ]
    },
    {
      "cell_type": "code",
      "metadata": {
        "colab": {
          "base_uri": "https://localhost:8080/"
        },
        "id": "tAkmmbDQTibr",
        "outputId": "12f11b33-f6c9-4764-b245-a4b3159518ab"
      },
      "source": [
        "index"
      ],
      "execution_count": 77,
      "outputs": [
        {
          "output_type": "execute_result",
          "data": {
            "text/plain": [
              "0"
            ]
          },
          "metadata": {
            "tags": []
          },
          "execution_count": 77
        }
      ]
    },
    {
      "cell_type": "markdown",
      "metadata": {
        "id": "wn_QMBgFU8mG"
      },
      "source": [
        "dict เอาไปใช้ร่วมกับ dataframe ของ pandas\r\n",
        "Numpy array (array n มิติ)\r\n",
        "numpy คือ packege ที่ทำงานเกี่ยวกับ array ของตัวเลข(ที่มีคนเขียนขึ้นมาและนิยมใช้ )\r\n",
        "numpy -> number python"
      ]
    },
    {
      "cell_type": "code",
      "metadata": {
        "id": "eAzfldJERaaO"
      },
      "source": [
        "import numpy #วิธีเรียกใช้งาน package"
      ],
      "execution_count": 78,
      "outputs": []
    },
    {
      "cell_type": "code",
      "metadata": {
        "id": "Z43np3AHRah6"
      },
      "source": [
        "import numpy as np"
      ],
      "execution_count": 79,
      "outputs": []
    },
    {
      "cell_type": "markdown",
      "metadata": {
        "id": "_759SuKxVi8m"
      },
      "source": [
        "สร้าง numpy array"
      ]
    },
    {
      "cell_type": "code",
      "metadata": {
        "colab": {
          "base_uri": "https://localhost:8080/"
        },
        "id": "uLq2kbMJVVBn",
        "outputId": "d7f0b90b-3230-421b-b4e1-1d03b398c9b9"
      },
      "source": [
        "ex_2d_array = numpy.array([[5.2,3.0,4.5],[9.1,0.1,0.3]])\r\n",
        "print(ex_2d_array)"
      ],
      "execution_count": 80,
      "outputs": [
        {
          "output_type": "stream",
          "text": [
            "[[5.2 3.  4.5]\n",
            " [9.1 0.1 0.3]]\n"
          ],
          "name": "stdout"
        }
      ]
    },
    {
      "cell_type": "markdown",
      "metadata": {
        "id": "6n_hmxn_VwjI"
      },
      "source": [
        "\r\n",
        "การชี้ค่าใน array"
      ]
    },
    {
      "cell_type": "code",
      "metadata": {
        "colab": {
          "base_uri": "https://localhost:8080/"
        },
        "id": "4mgUnT2GVVMX",
        "outputId": "f755a171-3cd2-4130-bd04-396a42e0d8e1"
      },
      "source": [
        "ex_2d_array[1,2]"
      ],
      "execution_count": 81,
      "outputs": [
        {
          "output_type": "execute_result",
          "data": {
            "text/plain": [
              "0.3"
            ]
          },
          "metadata": {
            "tags": []
          },
          "execution_count": 81
        }
      ]
    },
    {
      "cell_type": "code",
      "metadata": {
        "colab": {
          "base_uri": "https://localhost:8080/"
        },
        "id": "M1NO1vJ-VVQw",
        "outputId": "0ae3c9dd-ffd4-4469-99c9-9568ca6973f5"
      },
      "source": [
        "list_x = [[5.2,3.0,4.5],[9.1,0.1,0.3]] #การชี้ list\r\n",
        "len(list_x)"
      ],
      "execution_count": 82,
      "outputs": [
        {
          "output_type": "execute_result",
          "data": {
            "text/plain": [
              "2"
            ]
          },
          "metadata": {
            "tags": []
          },
          "execution_count": 82
        }
      ]
    },
    {
      "cell_type": "code",
      "metadata": {
        "colab": {
          "base_uri": "https://localhost:8080/"
        },
        "id": "l2ot3JDtVVZ_",
        "outputId": "356e0975-3430-4711-9794-36c5e64e3adc"
      },
      "source": [
        "list_x[1][2]"
      ],
      "execution_count": 83,
      "outputs": [
        {
          "output_type": "execute_result",
          "data": {
            "text/plain": [
              "0.3"
            ]
          },
          "metadata": {
            "tags": []
          },
          "execution_count": 83
        }
      ]
    },
    {
      "cell_type": "markdown",
      "metadata": {
        "id": "wEp7yn8lV_ws"
      },
      "source": [
        "operations"
      ]
    },
    {
      "cell_type": "code",
      "metadata": {
        "colab": {
          "base_uri": "https://localhost:8080/"
        },
        "id": "8WRQlB68VVhJ",
        "outputId": "cf6a99c3-c811-4f34-82d1-6bb01926814a"
      },
      "source": [
        "ex2_2d_array = np.array([[1,0,0],[0,0,1]])\r\n",
        "print(ex2_2d_array)\r\n",
        "print(ex_2d_array)"
      ],
      "execution_count": 84,
      "outputs": [
        {
          "output_type": "stream",
          "text": [
            "[[1 0 0]\n",
            " [0 0 1]]\n",
            "[[5.2 3.  4.5]\n",
            " [9.1 0.1 0.3]]\n"
          ],
          "name": "stdout"
        }
      ]
    },
    {
      "cell_type": "code",
      "metadata": {
        "colab": {
          "base_uri": "https://localhost:8080/"
        },
        "id": "D5_Dt_-lVVln",
        "outputId": "1a76e01c-9e8d-4108-b388-eba618d8523a"
      },
      "source": [
        "ex_2d_array.shape #.shape ตรวจขนาดของ matrix"
      ],
      "execution_count": 85,
      "outputs": [
        {
          "output_type": "execute_result",
          "data": {
            "text/plain": [
              "(2, 3)"
            ]
          },
          "metadata": {
            "tags": []
          },
          "execution_count": 85
        }
      ]
    },
    {
      "cell_type": "code",
      "metadata": {
        "colab": {
          "base_uri": "https://localhost:8080/"
        },
        "id": "Cjw1ep3IVV4L",
        "outputId": "da89bbd1-66ec-48e4-e22c-af54077288d1"
      },
      "source": [
        "ex2_2d_array + ex_2d_array"
      ],
      "execution_count": 86,
      "outputs": [
        {
          "output_type": "execute_result",
          "data": {
            "text/plain": [
              "array([[6.2, 3. , 4.5],\n",
              "       [9.1, 0.1, 1.3]])"
            ]
          },
          "metadata": {
            "tags": []
          },
          "execution_count": 86
        }
      ]
    },
    {
      "cell_type": "code",
      "metadata": {
        "colab": {
          "base_uri": "https://localhost:8080/"
        },
        "id": "1WhsclWKVWFL",
        "outputId": "fee8f995-dd09-4d29-f2ca-5bdabc32592b"
      },
      "source": [
        "list_x = [[5.2,3.0,4.5],[9.1,0.1,0.3]]\r\n",
        "list_x2 = [[1,0,0],[0,0,1]]\r\n",
        "list_x + list_x2"
      ],
      "execution_count": 87,
      "outputs": [
        {
          "output_type": "execute_result",
          "data": {
            "text/plain": [
              "[[5.2, 3.0, 4.5], [9.1, 0.1, 0.3], [1, 0, 0], [0, 0, 1]]"
            ]
          },
          "metadata": {
            "tags": []
          },
          "execution_count": 87
        }
      ]
    },
    {
      "cell_type": "code",
      "metadata": {
        "colab": {
          "base_uri": "https://localhost:8080/"
        },
        "id": "0466OpdoVWQd",
        "outputId": "c9983bbb-e163-4415-fade-e44f028915b5"
      },
      "source": [
        "ex2_2d_array - ex_2d_array"
      ],
      "execution_count": 88,
      "outputs": [
        {
          "output_type": "execute_result",
          "data": {
            "text/plain": [
              "array([[-4.2, -3. , -4.5],\n",
              "       [-9.1, -0.1,  0.7]])"
            ]
          },
          "metadata": {
            "tags": []
          },
          "execution_count": 88
        }
      ]
    },
    {
      "cell_type": "code",
      "metadata": {
        "colab": {
          "base_uri": "https://localhost:8080/"
        },
        "id": "jw-a36dNVWeN",
        "outputId": "f45a3b91-30bd-40b4-a48e-cf249debd795"
      },
      "source": [
        "ex2_2d_array * ex_2d_array #การคูณแบบ array เอาตำแหน่งเดียวกันมาคูณกัน"
      ],
      "execution_count": 89,
      "outputs": [
        {
          "output_type": "execute_result",
          "data": {
            "text/plain": [
              "array([[5.2, 0. , 0. ],\n",
              "       [0. , 0. , 0.3]])"
            ]
          },
          "metadata": {
            "tags": []
          },
          "execution_count": 89
        }
      ]
    },
    {
      "cell_type": "markdown",
      "metadata": {
        "id": "OS_Gds82XNf3"
      },
      "source": [
        "matrix multiplication (dot product)"
      ]
    },
    {
      "cell_type": "code",
      "metadata": {
        "colab": {
          "base_uri": "https://localhost:8080/"
        },
        "id": "HHT19LdiRaoF",
        "outputId": "d3fc5961-7a99-4e0a-ba6d-7e8a23a5b942"
      },
      "source": [
        "print(ex_2d_array)\r\n",
        "print(ex_2d_array.T)"
      ],
      "execution_count": 90,
      "outputs": [
        {
          "output_type": "stream",
          "text": [
            "[[5.2 3.  4.5]\n",
            " [9.1 0.1 0.3]]\n",
            "[[5.2 9.1]\n",
            " [3.  0.1]\n",
            " [4.5 0.3]]\n"
          ],
          "name": "stdout"
        }
      ]
    },
    {
      "cell_type": "code",
      "metadata": {
        "colab": {
          "base_uri": "https://localhost:8080/"
        },
        "id": "uJnfyo5ORaut",
        "outputId": "d2285c1f-e133-4f24-b1bc-cdffa000da6b"
      },
      "source": [
        "dot_mat = np.dot(ex2_2d_array,ex_2d_array.T)\r\n",
        "print(dot_mat)"
      ],
      "execution_count": 91,
      "outputs": [
        {
          "output_type": "stream",
          "text": [
            "[[5.2 9.1]\n",
            " [4.5 0.3]]\n"
          ],
          "name": "stdout"
        }
      ]
    },
    {
      "cell_type": "code",
      "metadata": {
        "colab": {
          "base_uri": "https://localhost:8080/"
        },
        "id": "G3f82AYdXYps",
        "outputId": "e2a1ec93-9d93-4c78-9a4c-c0a1d20f2a45"
      },
      "source": [
        "np.linalg.det(dot_mat)"
      ],
      "execution_count": 92,
      "outputs": [
        {
          "output_type": "execute_result",
          "data": {
            "text/plain": [
              "-39.389999999999986"
            ]
          },
          "metadata": {
            "tags": []
          },
          "execution_count": 92
        }
      ]
    },
    {
      "cell_type": "markdown",
      "metadata": {
        "id": "ZJxIvz5NXg83"
      },
      "source": [
        "search google -> stackoverflow หรือ web ของ package สำหรับ operation อื่นๆ"
      ]
    },
    {
      "cell_type": "markdown",
      "metadata": {
        "id": "-wDmMpJRXmZk"
      },
      "source": [
        "##Matrix Slicing"
      ]
    },
    {
      "cell_type": "code",
      "metadata": {
        "colab": {
          "base_uri": "https://localhost:8080/"
        },
        "id": "jvW6hwYkXZV9",
        "outputId": "0e2dd412-1f6e-4c05-eaa7-08f88244f2a2"
      },
      "source": [
        "print(ex_2d_array)"
      ],
      "execution_count": 93,
      "outputs": [
        {
          "output_type": "stream",
          "text": [
            "[[5.2 3.  4.5]\n",
            " [9.1 0.1 0.3]]\n"
          ],
          "name": "stdout"
        }
      ]
    },
    {
      "cell_type": "code",
      "metadata": {
        "colab": {
          "base_uri": "https://localhost:8080/"
        },
        "id": "dUA6FGhjXZps",
        "outputId": "c8d7e9e3-c086-4ffd-a6fb-be462d5fccaa"
      },
      "source": [
        "ex_2d_array[1,1:]"
      ],
      "execution_count": 94,
      "outputs": [
        {
          "output_type": "execute_result",
          "data": {
            "text/plain": [
              "array([0.1, 0.3])"
            ]
          },
          "metadata": {
            "tags": []
          },
          "execution_count": 94
        }
      ]
    },
    {
      "cell_type": "code",
      "metadata": {
        "colab": {
          "base_uri": "https://localhost:8080/"
        },
        "id": "bBIh_wqgXaWJ",
        "outputId": "fd7c45f0-a309-4795-97b4-8b8f2f1f2321"
      },
      "source": [
        "ex_2d_array[:,:2]"
      ],
      "execution_count": 95,
      "outputs": [
        {
          "output_type": "execute_result",
          "data": {
            "text/plain": [
              "array([[5.2, 3. ],\n",
              "       [9.1, 0.1]])"
            ]
          },
          "metadata": {
            "tags": []
          },
          "execution_count": 95
        }
      ]
    },
    {
      "cell_type": "markdown",
      "metadata": {
        "id": "0U6QVny2X8K9"
      },
      "source": [
        "HW5 เขียน Function คูณ matrix\r\n",
        "แล้ว test กับ matrix\r\n",
        "\r\n",
        "(2,3)*(3,2)\r\n",
        "\r\n",
        "(4,4)*(4,1)\r\n",
        "\r\n",
        "(2,2)*(2,2)\r\n"
      ]
    },
    {
      "cell_type": "code",
      "metadata": {
        "id": "pbwyrVzBXarh"
      },
      "source": [
        "import numpy as np"
      ],
      "execution_count": 96,
      "outputs": []
    },
    {
      "cell_type": "code",
      "metadata": {
        "id": "ypPL47iDZbHf",
        "colab": {
          "base_uri": "https://localhost:8080/"
        },
        "outputId": "6ea7a93f-0823-45ad-fb8e-3eed15a98e88"
      },
      "source": [
        "#Matrix 2*3\n",
        "mat_A = np.array([[1,7,5],[9,2,4]])\n",
        "mat_A"
      ],
      "execution_count": 97,
      "outputs": [
        {
          "output_type": "execute_result",
          "data": {
            "text/plain": [
              "array([[1, 7, 5],\n",
              "       [9, 2, 4]])"
            ]
          },
          "metadata": {
            "tags": []
          },
          "execution_count": 97
        }
      ]
    },
    {
      "cell_type": "code",
      "metadata": {
        "id": "XmqCJWsQZbSc",
        "colab": {
          "base_uri": "https://localhost:8080/"
        },
        "outputId": "1d768340-657a-4ecc-832c-9c078f061605"
      },
      "source": [
        "#Matrix 3*2\n",
        "mat_B = np.array([[4,6],[5,3],[8,7]])\n",
        "mat_B"
      ],
      "execution_count": 98,
      "outputs": [
        {
          "output_type": "execute_result",
          "data": {
            "text/plain": [
              "array([[4, 6],\n",
              "       [5, 3],\n",
              "       [8, 7]])"
            ]
          },
          "metadata": {
            "tags": []
          },
          "execution_count": 98
        }
      ]
    },
    {
      "cell_type": "code",
      "metadata": {
        "id": "yGjoPjgdZbbb",
        "colab": {
          "base_uri": "https://localhost:8080/"
        },
        "outputId": "26f99188-30db-4840-ab01-744273df9bc8"
      },
      "source": [
        "#Matrix 4*4\n",
        "mat_C = np.array([[7,4,1,9],[8,9,4,6],[7,1,5,4],[5,4,3,2]])\n",
        "mat_C"
      ],
      "execution_count": 99,
      "outputs": [
        {
          "output_type": "execute_result",
          "data": {
            "text/plain": [
              "array([[7, 4, 1, 9],\n",
              "       [8, 9, 4, 6],\n",
              "       [7, 1, 5, 4],\n",
              "       [5, 4, 3, 2]])"
            ]
          },
          "metadata": {
            "tags": []
          },
          "execution_count": 99
        }
      ]
    },
    {
      "cell_type": "code",
      "metadata": {
        "id": "PkLgeRF2Zbkm",
        "colab": {
          "base_uri": "https://localhost:8080/"
        },
        "outputId": "1788abd2-1dcc-4a8f-cb91-2da5152e6026"
      },
      "source": [
        "#Matrix 4*1\n",
        "mat_D = np.array([[9],[6],[7],[4]])\n",
        "mat_D"
      ],
      "execution_count": 100,
      "outputs": [
        {
          "output_type": "execute_result",
          "data": {
            "text/plain": [
              "array([[9],\n",
              "       [6],\n",
              "       [7],\n",
              "       [4]])"
            ]
          },
          "metadata": {
            "tags": []
          },
          "execution_count": 100
        }
      ]
    },
    {
      "cell_type": "code",
      "metadata": {
        "id": "IQZmW2HbXa3S",
        "colab": {
          "base_uri": "https://localhost:8080/"
        },
        "outputId": "6b738018-ee2c-465b-c0d9-b4b6c5eb35c7"
      },
      "source": [
        "#Matrix 2*2 \n",
        "mat_E = np.array([[9,8],[7,6]])\n",
        "mat_E"
      ],
      "execution_count": 101,
      "outputs": [
        {
          "output_type": "execute_result",
          "data": {
            "text/plain": [
              "array([[9, 8],\n",
              "       [7, 6]])"
            ]
          },
          "metadata": {
            "tags": []
          },
          "execution_count": 101
        }
      ]
    },
    {
      "cell_type": "code",
      "metadata": {
        "id": "LX2i-csQRbpt",
        "colab": {
          "base_uri": "https://localhost:8080/"
        },
        "outputId": "c40488f7-8685-428b-a04e-bebe961a8583"
      },
      "source": [
        "mat_F = np.array([[6,4],[5,7]])\n",
        "mat_F"
      ],
      "execution_count": 102,
      "outputs": [
        {
          "output_type": "execute_result",
          "data": {
            "text/plain": [
              "array([[6, 4],\n",
              "       [5, 7]])"
            ]
          },
          "metadata": {
            "tags": []
          },
          "execution_count": 102
        }
      ]
    },
    {
      "cell_type": "markdown",
      "metadata": {
        "id": "o_Y4ZYbLaSbE"
      },
      "source": [
        "##Create Function Multiply Matrix"
      ]
    },
    {
      "cell_type": "code",
      "metadata": {
        "id": "KfTlvDI7Rbsz"
      },
      "source": [
        "def mul_mat(A, B):\r\n",
        "    C = [[0 for row in range(len(B[0]))] for col in range(len(A))]\r\n",
        "    for i in range(len(A)):\r\n",
        "        for j in range(len(B[0])):\r\n",
        "            for k in range(len(B)):\r\n",
        "                C[i][j] += A[i][k]*B[k][j]\r\n",
        "    r = np.matrix(C)\r\n",
        "    return r"
      ],
      "execution_count": 103,
      "outputs": []
    },
    {
      "cell_type": "code",
      "metadata": {
        "id": "NWe576VqaYfU",
        "colab": {
          "base_uri": "https://localhost:8080/"
        },
        "outputId": "8b16f9e6-aa75-489f-f23a-54a9fd2cd4c6"
      },
      "source": [
        "mul_mat(mat_A,mat_B)"
      ],
      "execution_count": 104,
      "outputs": [
        {
          "output_type": "execute_result",
          "data": {
            "text/plain": [
              "matrix([[79, 62],\n",
              "        [78, 88]])"
            ]
          },
          "metadata": {
            "tags": []
          },
          "execution_count": 104
        }
      ]
    },
    {
      "cell_type": "code",
      "metadata": {
        "id": "enabEpa1aZD_",
        "colab": {
          "base_uri": "https://localhost:8080/"
        },
        "outputId": "451b9532-db5e-4351-9f3b-4d2c24fb2728"
      },
      "source": [
        "mul_mat(mat_C,mat_D)"
      ],
      "execution_count": 105,
      "outputs": [
        {
          "output_type": "execute_result",
          "data": {
            "text/plain": [
              "matrix([[130],\n",
              "        [178],\n",
              "        [120],\n",
              "        [ 98]])"
            ]
          },
          "metadata": {
            "tags": []
          },
          "execution_count": 105
        }
      ]
    },
    {
      "cell_type": "code",
      "metadata": {
        "id": "rWeRyySIaZMH",
        "colab": {
          "base_uri": "https://localhost:8080/"
        },
        "outputId": "d0c3044a-c872-4065-de15-528d0f45c4e6"
      },
      "source": [
        "mul_mat(mat_E,mat_F)"
      ],
      "execution_count": 106,
      "outputs": [
        {
          "output_type": "execute_result",
          "data": {
            "text/plain": [
              "matrix([[94, 92],\n",
              "        [72, 70]])"
            ]
          },
          "metadata": {
            "tags": []
          },
          "execution_count": 106
        }
      ]
    },
    {
      "cell_type": "markdown",
      "metadata": {
        "id": "CkF75lSHawuO"
      },
      "source": [
        "##ตรวจสอบความถูกต้อง"
      ]
    },
    {
      "cell_type": "code",
      "metadata": {
        "id": "7Bh5PPsaaZU3",
        "colab": {
          "base_uri": "https://localhost:8080/"
        },
        "outputId": "b5009b54-7bf3-49e2-fec3-8b345b530d0c"
      },
      "source": [
        "np.dot(mat_A,mat_B)"
      ],
      "execution_count": 107,
      "outputs": [
        {
          "output_type": "execute_result",
          "data": {
            "text/plain": [
              "array([[79, 62],\n",
              "       [78, 88]])"
            ]
          },
          "metadata": {
            "tags": []
          },
          "execution_count": 107
        }
      ]
    }
  ]
}